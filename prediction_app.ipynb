{
 "cells": [
  {
   "cell_type": "code",
   "execution_count": 10,
   "metadata": {
    "pycharm": {
     "name": "#%%\n"
    }
   },
   "outputs": [],
   "source": [
    "import numpy as np\n",
    "import pandas as pd\n",
    "import math\n",
    "import seaborn as sb\n",
    "import matplotlib.pyplot as plt\n",
    "from sklearn.impute import SimpleImputer\n",
    "from sklearn.preprocessing import MinMaxScaler,LabelEncoder\n",
    "from sklearn.feature_selection import SelectKBest,chi2\n",
    "from sklearn.model_selection import train_test_split\n",
    "from sklearn.metrics import accuracy_score,confusion_matrix,classification_report\n",
    "from sklearn.model_selection import GridSearchCV,cross_val_score\n",
    "import warnings\n",
    "warnings.filterwarnings('ignore')"
   ]
  },
  {
   "cell_type": "code",
   "execution_count": 11,
   "metadata": {},
   "outputs": [],
   "source": [
    "# Read dataset from the CSV file.\n",
    "train=pd.read_csv(\"datasets/train_dataset.csv\")"
   ]
  },
  {
   "cell_type": "code",
   "execution_count": 13,
   "metadata": {
    "scrolled": true
   },
   "outputs": [
    {
     "name": "stdout",
     "output_type": "stream",
     "text": [
      "              ID Client_Income  Car_Owned  Bike_Owned  Active_Loan  House_Own  \\\n",
      "0       12142509          6750        0.0         0.0          1.0        0.0   \n",
      "1       12138936         20250        1.0         0.0          1.0        NaN   \n",
      "2       12181264         18000        0.0         0.0          1.0        0.0   \n",
      "3       12188929         15750        0.0         0.0          1.0        1.0   \n",
      "4       12133385         33750        1.0         0.0          1.0        0.0   \n",
      "...          ...           ...        ...         ...          ...        ...   \n",
      "121851  12207714         29250        0.0         0.0          NaN        1.0   \n",
      "121852  12173765         15750        0.0         1.0          1.0        0.0   \n",
      "121853  12103937          8100        0.0         1.0          0.0        1.0   \n",
      "121854  12170623         38250        1.0         1.0          0.0        1.0   \n",
      "121855  12105610          9000        1.0         1.0          1.0        1.0   \n",
      "\n",
      "        Child_Count Credit_Amount Loan_Annuity Accompany_Client  ...  \\\n",
      "0               0.0      61190.55      3416.85            Alone  ...   \n",
      "1               0.0         15282      1826.55            Alone  ...   \n",
      "2               1.0      59527.35       2788.2            Alone  ...   \n",
      "3               0.0       53870.4      2295.45            Alone  ...   \n",
      "4               2.0      133988.4      3547.35            Alone  ...   \n",
      "...             ...           ...          ...              ...  ...   \n",
      "121851          0.0        107820       3165.3         Relative  ...   \n",
      "121852          0.0        104256      3388.05            Alone  ...   \n",
      "121853          1.0       55107.9      2989.35            Alone  ...   \n",
      "121854          0.0         45000      2719.35            Alone  ...   \n",
      "121855          1.0      62428.95      4201.65            Alone  ...   \n",
      "\n",
      "       Client_Permanent_Match_Tag Client_Contact_Work_Tag  \\\n",
      "0                             Yes                     Yes   \n",
      "1                             Yes                     Yes   \n",
      "2                             Yes                     Yes   \n",
      "3                             Yes                     Yes   \n",
      "4                             Yes                     Yes   \n",
      "...                           ...                     ...   \n",
      "121851                        Yes                      No   \n",
      "121852                        Yes                     Yes   \n",
      "121853                         No                      No   \n",
      "121854                        Yes                     Yes   \n",
      "121855                        Yes                     Yes   \n",
      "\n",
      "             Type_Organization Score_Source_1 Score_Source_2 Score_Source_3  \\\n",
      "0                Self-employed       0.568066       0.478787            NaN   \n",
      "1                   Government       0.563360       0.215068            NaN   \n",
      "2                Self-employed            NaN       0.552795       0.329655   \n",
      "3                          XNA            NaN       0.135182       0.631355   \n",
      "4       Business Entity Type 3       0.508199       0.301182       0.355639   \n",
      "...                        ...            ...            ...            ...   \n",
      "121851  Business Entity Type 2            NaN       0.173527       0.184116   \n",
      "121852           Self-employed            NaN       0.371559       0.406617   \n",
      "121853           Trade: type 6       0.169049       0.048079            NaN   \n",
      "121854  Business Entity Type 3       0.182737       0.103538       0.077499   \n",
      "121855  Business Entity Type 3            NaN       0.556414       0.298595   \n",
      "\n",
      "       Social_Circle_Default Phone_Change Credit_Bureau Default  \n",
      "0                     0.0186         63.0           NaN       0  \n",
      "1                        NaN          NaN           NaN       0  \n",
      "2                     0.0742        277.0           0.0       0  \n",
      "3                        NaN       1700.0           3.0       0  \n",
      "4                     0.2021        674.0           1.0       0  \n",
      "...                      ...          ...           ...     ...  \n",
      "121851                0.0577          0.0           1.0       1  \n",
      "121852                0.0825          4.0           0.0       0  \n",
      "121853                   NaN          0.0           NaN       0  \n",
      "121854                0.0979          0.0           2.0       0  \n",
      "121855                0.1031        805.0           0.0       0  \n",
      "\n",
      "[121856 rows x 40 columns]\n"
     ]
    }
   ],
   "source": [
    "print(train)"
   ]
  },
  {
   "cell_type": "code",
   "execution_count": 18,
   "metadata": {},
   "outputs": [
    {
     "data": {
      "text/plain": [
       "Index(['ID', 'Client_Income', 'Car_Owned', 'Bike_Owned', 'Active_Loan',\n",
       "       'House_Own', 'Child_Count', 'Credit_Amount', 'Loan_Annuity',\n",
       "       'Accompany_Client', 'Client_Income_Type', 'Client_Education',\n",
       "       'Client_Marital_Status', 'Client_Gender', 'Loan_Contract_Type',\n",
       "       'Client_Housing_Type', 'Population_Region_Relative', 'Age_Days',\n",
       "       'Employed_Days', 'Registration_Days', 'ID_Days', 'Own_House_Age',\n",
       "       'Mobile_Tag', 'Homephone_Tag', 'Workphone_Working', 'Client_Occupation',\n",
       "       'Client_Family_Members', 'Cleint_City_Rating',\n",
       "       'Application_Process_Day', 'Application_Process_Hour',\n",
       "       'Client_Permanent_Match_Tag', 'Client_Contact_Work_Tag',\n",
       "       'Type_Organization', 'Score_Source_1', 'Score_Source_2',\n",
       "       'Score_Source_3', 'Social_Circle_Default', 'Phone_Change',\n",
       "       'Credit_Bureau', 'Default'],\n",
       "      dtype='object')"
      ]
     },
     "execution_count": 18,
     "metadata": {},
     "output_type": "execute_result"
    }
   ],
   "source": [
    "# Columns in the dataset (Columns are considered as the Features)\n",
    "train.columns"
   ]
  },
  {
   "cell_type": "code",
   "execution_count": 19,
   "metadata": {},
   "outputs": [
    {
     "data": {
      "text/plain": [
       "ID                              int64\n",
       "Client_Income                  object\n",
       "Car_Owned                     float64\n",
       "Bike_Owned                    float64\n",
       "Active_Loan                   float64\n",
       "House_Own                     float64\n",
       "Child_Count                   float64\n",
       "Credit_Amount                  object\n",
       "Loan_Annuity                   object\n",
       "Accompany_Client               object\n",
       "Client_Income_Type             object\n",
       "Client_Education               object\n",
       "Client_Marital_Status          object\n",
       "Client_Gender                  object\n",
       "Loan_Contract_Type             object\n",
       "Client_Housing_Type            object\n",
       "Population_Region_Relative     object\n",
       "Age_Days                       object\n",
       "Employed_Days                  object\n",
       "Registration_Days              object\n",
       "ID_Days                        object\n",
       "Own_House_Age                 float64\n",
       "Mobile_Tag                      int64\n",
       "Homephone_Tag                   int64\n",
       "Workphone_Working               int64\n",
       "Client_Occupation              object\n",
       "Client_Family_Members         float64\n",
       "Cleint_City_Rating            float64\n",
       "Application_Process_Day       float64\n",
       "Application_Process_Hour      float64\n",
       "Client_Permanent_Match_Tag     object\n",
       "Client_Contact_Work_Tag        object\n",
       "Type_Organization              object\n",
       "Score_Source_1                float64\n",
       "Score_Source_2                float64\n",
       "Score_Source_3                 object\n",
       "Social_Circle_Default         float64\n",
       "Phone_Change                  float64\n",
       "Credit_Bureau                 float64\n",
       "Default                         int64\n",
       "dtype: object"
      ]
     },
     "execution_count": 19,
     "metadata": {},
     "output_type": "execute_result"
    }
   ],
   "source": [
    "# Print data types for each variable\n",
    "train.dtypes"
   ]
  },
  {
   "cell_type": "code",
   "execution_count": 20,
   "metadata": {},
   "outputs": [
    {
     "data": {
      "text/plain": [
       "(121856, 40)"
      ]
     },
     "execution_count": 20,
     "metadata": {},
     "output_type": "execute_result"
    }
   ],
   "source": [
    "# Shape of the dataset\n",
    "train.shape"
   ]
  },
  {
   "cell_type": "code",
   "execution_count": 27,
   "metadata": {},
   "outputs": [
    {
     "data": {
      "text/plain": [
       "Male      0.656907\n",
       "Female    0.343067\n",
       "XNA       0.000025\n",
       "Name: Client_Gender, dtype: float64"
      ]
     },
     "execution_count": 27,
     "metadata": {},
     "output_type": "execute_result"
    }
   ],
   "source": [
    "# train.value_counts(normalize=True)\n",
    "train['Client_Gender'].value_counts(normalize=True)"
   ]
  },
  {
   "cell_type": "code",
   "execution_count": 28,
   "metadata": {},
   "outputs": [
    {
     "data": {
      "text/plain": [
       "0    112011\n",
       "1      9845\n",
       "Name: Default, dtype: int64"
      ]
     },
     "execution_count": 28,
     "metadata": {},
     "output_type": "execute_result"
    }
   ],
   "source": [
    "# Normalize can be set to True to print proportions instead of number \n",
    "train['Default'].value_counts()"
   ]
  },
  {
   "cell_type": "code",
   "execution_count": 31,
   "metadata": {},
   "outputs": [
    {
     "data": {
      "text/plain": [
       "0    0.919208\n",
       "1    0.080792\n",
       "Name: Default, dtype: float64"
      ]
     },
     "execution_count": 31,
     "metadata": {},
     "output_type": "execute_result"
    }
   ],
   "source": [
    "# Normalize can be set to True to print proportions instead of number \n",
    "# train['Default'].value_counts(normalize=True)\n",
    "train['Default'].value_counts(normalize=True)\n",
    "# type(train['Default'].value_counts(normalize=True))"
   ]
  },
  {
   "cell_type": "code",
   "execution_count": 36,
   "metadata": {},
   "outputs": [
    {
     "name": "stdout",
     "output_type": "stream",
     "text": [
      "112011\n"
     ]
    }
   ],
   "source": [
    "print(train['Default'].value_counts()[0])"
   ]
  },
  {
   "cell_type": "code",
   "execution_count": 42,
   "metadata": {},
   "outputs": [
    {
     "data": {
      "text/plain": [
       "<AxesSubplot:>"
      ]
     },
     "execution_count": 42,
     "metadata": {},
     "output_type": "execute_result"
    },
    {
     "data": {
      "image/png": "[encoded data removed]",
      "text/plain": [
       "<Figure size 432x288 with 1 Axes>"
      ]
     },
     "metadata": {
      "needs_background": "light"
     },
     "output_type": "display_data"
    }
   ],
   "source": [
    "# Visualize the data in Default column\n",
    "train['Default'].value_counts().plot.bar(x='default values', y='count', color=['blue','red'])"
   ]
  },
  {
   "cell_type": "code",
   "execution_count": null,
   "metadata": {},
   "outputs": [],
   "source": []
  }
 ],
 "metadata": {
  "kernelspec": {
   "display_name": "Python 3 (ipykernel)",
   "language": "python",
   "name": "python3"
  },
  "language_info": {
   "codemirror_mode": {
    "name": "ipython",
    "version": 3
   },
   "file_extension": ".py",
   "mimetype": "text/x-python",
   "name": "python",
   "nbconvert_exporter": "python",
   "pygments_lexer": "ipython3",
   "version": "3.8.10"
  }
 },
 "nbformat": 4,
 "nbformat_minor": 1
}
