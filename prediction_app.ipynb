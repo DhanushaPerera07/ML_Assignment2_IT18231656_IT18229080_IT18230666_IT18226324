{
 "cells": [
  {
   "cell_type": "code",
   "execution_count": 44,
   "metadata": {
    "pycharm": {
     "name": "#%%\n"
    }
   },
   "outputs": [],
   "source": [
    "\n",
    "import matplotlib.pyplot as plt\n",
    "import pandas as pd\n",
    "import seaborn as sb\n",
    "import warnings\n",
    "from sklearn.preprocessing import LabelEncoder\n",
    "from sklearn.impute import SimpleImputer\n",
    "import math\n",
    "\n",
    "\n",
    "warnings.filterwarnings('ignore')"
   ]
  },
  {
   "cell_type": "code",
   "execution_count": 2,
   "metadata": {
    "pycharm": {
     "name": "#%%\n"
    }
   },
   "outputs": [],
   "source": [
    "# Read dataset from the CSV file.\n",
    "train = pd.read_csv(\"datasets/train_dataset.csv\")"
   ]
  },
  {
   "cell_type": "code",
   "execution_count": 3,
   "metadata": {
    "pycharm": {
     "name": "#%%\n"
    }
   },
   "outputs": [
    {
     "data": {
      "text/html": [
       "<div>\n",
       "<style scoped>\n",
       "    .dataframe tbody tr th:only-of-type {\n",
       "        vertical-align: middle;\n",
       "    }\n",
       "\n",
       "    .dataframe tbody tr th {\n",
       "        vertical-align: top;\n",
       "    }\n",
       "\n",
       "    .dataframe thead th {\n",
       "        text-align: right;\n",
       "    }\n",
       "</style>\n",
       "<table border=\"1\" class=\"dataframe\">\n",
       "  <thead>\n",
       "    <tr style=\"text-align: right;\">\n",
       "      <th></th>\n",
       "      <th>ID</th>\n",
       "      <th>Client_Income</th>\n",
       "      <th>Car_Owned</th>\n",
       "      <th>Bike_Owned</th>\n",
       "      <th>Active_Loan</th>\n",
       "      <th>House_Own</th>\n",
       "      <th>Child_Count</th>\n",
       "      <th>Credit_Amount</th>\n",
       "      <th>Loan_Annuity</th>\n",
       "      <th>Accompany_Client</th>\n",
       "      <th>...</th>\n",
       "      <th>Client_Permanent_Match_Tag</th>\n",
       "      <th>Client_Contact_Work_Tag</th>\n",
       "      <th>Type_Organization</th>\n",
       "      <th>Score_Source_1</th>\n",
       "      <th>Score_Source_2</th>\n",
       "      <th>Score_Source_3</th>\n",
       "      <th>Social_Circle_Default</th>\n",
       "      <th>Phone_Change</th>\n",
       "      <th>Credit_Bureau</th>\n",
       "      <th>Default</th>\n",
       "    </tr>\n",
       "  </thead>\n",
       "  <tbody>\n",
       "    <tr>\n",
       "      <th>0</th>\n",
       "      <td>12142509</td>\n",
       "      <td>6750</td>\n",
       "      <td>0.0</td>\n",
       "      <td>0.0</td>\n",
       "      <td>1.0</td>\n",
       "      <td>0.0</td>\n",
       "      <td>0.0</td>\n",
       "      <td>61190.55</td>\n",
       "      <td>3416.85</td>\n",
       "      <td>Alone</td>\n",
       "      <td>...</td>\n",
       "      <td>Yes</td>\n",
       "      <td>Yes</td>\n",
       "      <td>Self-employed</td>\n",
       "      <td>0.568066</td>\n",
       "      <td>0.478787</td>\n",
       "      <td>NaN</td>\n",
       "      <td>0.0186</td>\n",
       "      <td>63.0</td>\n",
       "      <td>NaN</td>\n",
       "      <td>0</td>\n",
       "    </tr>\n",
       "    <tr>\n",
       "      <th>1</th>\n",
       "      <td>12138936</td>\n",
       "      <td>20250</td>\n",
       "      <td>1.0</td>\n",
       "      <td>0.0</td>\n",
       "      <td>1.0</td>\n",
       "      <td>NaN</td>\n",
       "      <td>0.0</td>\n",
       "      <td>15282</td>\n",
       "      <td>1826.55</td>\n",
       "      <td>Alone</td>\n",
       "      <td>...</td>\n",
       "      <td>Yes</td>\n",
       "      <td>Yes</td>\n",
       "      <td>Government</td>\n",
       "      <td>0.563360</td>\n",
       "      <td>0.215068</td>\n",
       "      <td>NaN</td>\n",
       "      <td>NaN</td>\n",
       "      <td>NaN</td>\n",
       "      <td>NaN</td>\n",
       "      <td>0</td>\n",
       "    </tr>\n",
       "    <tr>\n",
       "      <th>2</th>\n",
       "      <td>12181264</td>\n",
       "      <td>18000</td>\n",
       "      <td>0.0</td>\n",
       "      <td>0.0</td>\n",
       "      <td>1.0</td>\n",
       "      <td>0.0</td>\n",
       "      <td>1.0</td>\n",
       "      <td>59527.35</td>\n",
       "      <td>2788.2</td>\n",
       "      <td>Alone</td>\n",
       "      <td>...</td>\n",
       "      <td>Yes</td>\n",
       "      <td>Yes</td>\n",
       "      <td>Self-employed</td>\n",
       "      <td>NaN</td>\n",
       "      <td>0.552795</td>\n",
       "      <td>0.329655</td>\n",
       "      <td>0.0742</td>\n",
       "      <td>277.0</td>\n",
       "      <td>0.0</td>\n",
       "      <td>0</td>\n",
       "    </tr>\n",
       "    <tr>\n",
       "      <th>3</th>\n",
       "      <td>12188929</td>\n",
       "      <td>15750</td>\n",
       "      <td>0.0</td>\n",
       "      <td>0.0</td>\n",
       "      <td>1.0</td>\n",
       "      <td>1.0</td>\n",
       "      <td>0.0</td>\n",
       "      <td>53870.4</td>\n",
       "      <td>2295.45</td>\n",
       "      <td>Alone</td>\n",
       "      <td>...</td>\n",
       "      <td>Yes</td>\n",
       "      <td>Yes</td>\n",
       "      <td>XNA</td>\n",
       "      <td>NaN</td>\n",
       "      <td>0.135182</td>\n",
       "      <td>0.631355</td>\n",
       "      <td>NaN</td>\n",
       "      <td>1700.0</td>\n",
       "      <td>3.0</td>\n",
       "      <td>0</td>\n",
       "    </tr>\n",
       "    <tr>\n",
       "      <th>4</th>\n",
       "      <td>12133385</td>\n",
       "      <td>33750</td>\n",
       "      <td>1.0</td>\n",
       "      <td>0.0</td>\n",
       "      <td>1.0</td>\n",
       "      <td>0.0</td>\n",
       "      <td>2.0</td>\n",
       "      <td>133988.4</td>\n",
       "      <td>3547.35</td>\n",
       "      <td>Alone</td>\n",
       "      <td>...</td>\n",
       "      <td>Yes</td>\n",
       "      <td>Yes</td>\n",
       "      <td>Business Entity Type 3</td>\n",
       "      <td>0.508199</td>\n",
       "      <td>0.301182</td>\n",
       "      <td>0.355639</td>\n",
       "      <td>0.2021</td>\n",
       "      <td>674.0</td>\n",
       "      <td>1.0</td>\n",
       "      <td>0</td>\n",
       "    </tr>\n",
       "  </tbody>\n",
       "</table>\n",
       "<p>5 rows × 40 columns</p>\n",
       "</div>"
      ],
      "text/plain": [
       "         ID Client_Income  Car_Owned  Bike_Owned  Active_Loan  House_Own  \\\n",
       "0  12142509          6750        0.0         0.0          1.0        0.0   \n",
       "1  12138936         20250        1.0         0.0          1.0        NaN   \n",
       "2  12181264         18000        0.0         0.0          1.0        0.0   \n",
       "3  12188929         15750        0.0         0.0          1.0        1.0   \n",
       "4  12133385         33750        1.0         0.0          1.0        0.0   \n",
       "\n",
       "   Child_Count Credit_Amount Loan_Annuity Accompany_Client  ...  \\\n",
       "0          0.0      61190.55      3416.85            Alone  ...   \n",
       "1          0.0         15282      1826.55            Alone  ...   \n",
       "2          1.0      59527.35       2788.2            Alone  ...   \n",
       "3          0.0       53870.4      2295.45            Alone  ...   \n",
       "4          2.0      133988.4      3547.35            Alone  ...   \n",
       "\n",
       "  Client_Permanent_Match_Tag Client_Contact_Work_Tag       Type_Organization  \\\n",
       "0                        Yes                     Yes           Self-employed   \n",
       "1                        Yes                     Yes              Government   \n",
       "2                        Yes                     Yes           Self-employed   \n",
       "3                        Yes                     Yes                     XNA   \n",
       "4                        Yes                     Yes  Business Entity Type 3   \n",
       "\n",
       "  Score_Source_1 Score_Source_2 Score_Source_3 Social_Circle_Default  \\\n",
       "0       0.568066       0.478787            NaN                0.0186   \n",
       "1       0.563360       0.215068            NaN                   NaN   \n",
       "2            NaN       0.552795       0.329655                0.0742   \n",
       "3            NaN       0.135182       0.631355                   NaN   \n",
       "4       0.508199       0.301182       0.355639                0.2021   \n",
       "\n",
       "  Phone_Change Credit_Bureau Default  \n",
       "0         63.0           NaN       0  \n",
       "1          NaN           NaN       0  \n",
       "2        277.0           0.0       0  \n",
       "3       1700.0           3.0       0  \n",
       "4        674.0           1.0       0  \n",
       "\n",
       "[5 rows x 40 columns]"
      ]
     },
     "execution_count": 3,
     "metadata": {},
     "output_type": "execute_result"
    }
   ],
   "source": [
    "train.head(5)"
   ]
  },
  {
   "cell_type": "code",
   "execution_count": 4,
   "metadata": {
    "pycharm": {
     "name": "#%%\n"
    },
    "scrolled": true
   },
   "outputs": [
    {
     "name": "stdout",
     "output_type": "stream",
     "text": [
      "              ID Client_Income  Car_Owned  Bike_Owned  Active_Loan  House_Own  \\\n",
      "0       12142509          6750        0.0         0.0          1.0        0.0   \n",
      "1       12138936         20250        1.0         0.0          1.0        NaN   \n",
      "2       12181264         18000        0.0         0.0          1.0        0.0   \n",
      "3       12188929         15750        0.0         0.0          1.0        1.0   \n",
      "4       12133385         33750        1.0         0.0          1.0        0.0   \n",
      "...          ...           ...        ...         ...          ...        ...   \n",
      "121851  12207714         29250        0.0         0.0          NaN        1.0   \n",
      "121852  12173765         15750        0.0         1.0          1.0        0.0   \n",
      "121853  12103937          8100        0.0         1.0          0.0        1.0   \n",
      "121854  12170623         38250        1.0         1.0          0.0        1.0   \n",
      "121855  12105610          9000        1.0         1.0          1.0        1.0   \n",
      "\n",
      "        Child_Count Credit_Amount Loan_Annuity Accompany_Client  ...  \\\n",
      "0               0.0      61190.55      3416.85            Alone  ...   \n",
      "1               0.0         15282      1826.55            Alone  ...   \n",
      "2               1.0      59527.35       2788.2            Alone  ...   \n",
      "3               0.0       53870.4      2295.45            Alone  ...   \n",
      "4               2.0      133988.4      3547.35            Alone  ...   \n",
      "...             ...           ...          ...              ...  ...   \n",
      "121851          0.0        107820       3165.3         Relative  ...   \n",
      "121852          0.0        104256      3388.05            Alone  ...   \n",
      "121853          1.0       55107.9      2989.35            Alone  ...   \n",
      "121854          0.0         45000      2719.35            Alone  ...   \n",
      "121855          1.0      62428.95      4201.65            Alone  ...   \n",
      "\n",
      "       Client_Permanent_Match_Tag Client_Contact_Work_Tag  \\\n",
      "0                             Yes                     Yes   \n",
      "1                             Yes                     Yes   \n",
      "2                             Yes                     Yes   \n",
      "3                             Yes                     Yes   \n",
      "4                             Yes                     Yes   \n",
      "...                           ...                     ...   \n",
      "121851                        Yes                      No   \n",
      "121852                        Yes                     Yes   \n",
      "121853                         No                      No   \n",
      "121854                        Yes                     Yes   \n",
      "121855                        Yes                     Yes   \n",
      "\n",
      "             Type_Organization Score_Source_1 Score_Source_2 Score_Source_3  \\\n",
      "0                Self-employed       0.568066       0.478787            NaN   \n",
      "1                   Government       0.563360       0.215068            NaN   \n",
      "2                Self-employed            NaN       0.552795       0.329655   \n",
      "3                          XNA            NaN       0.135182       0.631355   \n",
      "4       Business Entity Type 3       0.508199       0.301182       0.355639   \n",
      "...                        ...            ...            ...            ...   \n",
      "121851  Business Entity Type 2            NaN       0.173527       0.184116   \n",
      "121852           Self-employed            NaN       0.371559       0.406617   \n",
      "121853           Trade: type 6       0.169049       0.048079            NaN   \n",
      "121854  Business Entity Type 3       0.182737       0.103538       0.077499   \n",
      "121855  Business Entity Type 3            NaN       0.556414       0.298595   \n",
      "\n",
      "       Social_Circle_Default Phone_Change Credit_Bureau Default  \n",
      "0                     0.0186         63.0           NaN       0  \n",
      "1                        NaN          NaN           NaN       0  \n",
      "2                     0.0742        277.0           0.0       0  \n",
      "3                        NaN       1700.0           3.0       0  \n",
      "4                     0.2021        674.0           1.0       0  \n",
      "...                      ...          ...           ...     ...  \n",
      "121851                0.0577          0.0           1.0       1  \n",
      "121852                0.0825          4.0           0.0       0  \n",
      "121853                   NaN          0.0           NaN       0  \n",
      "121854                0.0979          0.0           2.0       0  \n",
      "121855                0.1031        805.0           0.0       0  \n",
      "\n",
      "[121856 rows x 40 columns]\n"
     ]
    }
   ],
   "source": [
    "print(train)"
   ]
  },
  {
   "cell_type": "code",
   "execution_count": 5,
   "metadata": {
    "pycharm": {
     "name": "#%%\n"
    }
   },
   "outputs": [
    {
     "data": {
      "text/plain": [
       "Index(['ID', 'Client_Income', 'Car_Owned', 'Bike_Owned', 'Active_Loan',\n",
       "       'House_Own', 'Child_Count', 'Credit_Amount', 'Loan_Annuity',\n",
       "       'Accompany_Client', 'Client_Income_Type', 'Client_Education',\n",
       "       'Client_Marital_Status', 'Client_Gender', 'Loan_Contract_Type',\n",
       "       'Client_Housing_Type', 'Population_Region_Relative', 'Age_Days',\n",
       "       'Employed_Days', 'Registration_Days', 'ID_Days', 'Own_House_Age',\n",
       "       'Mobile_Tag', 'Homephone_Tag', 'Workphone_Working', 'Client_Occupation',\n",
       "       'Client_Family_Members', 'Cleint_City_Rating',\n",
       "       'Application_Process_Day', 'Application_Process_Hour',\n",
       "       'Client_Permanent_Match_Tag', 'Client_Contact_Work_Tag',\n",
       "       'Type_Organization', 'Score_Source_1', 'Score_Source_2',\n",
       "       'Score_Source_3', 'Social_Circle_Default', 'Phone_Change',\n",
       "       'Credit_Bureau', 'Default'],\n",
       "      dtype='object')"
      ]
     },
     "execution_count": 5,
     "metadata": {},
     "output_type": "execute_result"
    }
   ],
   "source": [
    "# Columns in the dataset (Columns are considered as the Features)\n",
    "train.columns"
   ]
  },
  {
   "cell_type": "code",
   "execution_count": 6,
   "metadata": {
    "pycharm": {
     "name": "#%%\n"
    }
   },
   "outputs": [
    {
     "data": {
      "text/plain": [
       "ID                              int64\n",
       "Client_Income                  object\n",
       "Car_Owned                     float64\n",
       "Bike_Owned                    float64\n",
       "Active_Loan                   float64\n",
       "House_Own                     float64\n",
       "Child_Count                   float64\n",
       "Credit_Amount                  object\n",
       "Loan_Annuity                   object\n",
       "Accompany_Client               object\n",
       "Client_Income_Type             object\n",
       "Client_Education               object\n",
       "Client_Marital_Status          object\n",
       "Client_Gender                  object\n",
       "Loan_Contract_Type             object\n",
       "Client_Housing_Type            object\n",
       "Population_Region_Relative     object\n",
       "Age_Days                       object\n",
       "Employed_Days                  object\n",
       "Registration_Days              object\n",
       "ID_Days                        object\n",
       "Own_House_Age                 float64\n",
       "Mobile_Tag                      int64\n",
       "Homephone_Tag                   int64\n",
       "Workphone_Working               int64\n",
       "Client_Occupation              object\n",
       "Client_Family_Members         float64\n",
       "Cleint_City_Rating            float64\n",
       "Application_Process_Day       float64\n",
       "Application_Process_Hour      float64\n",
       "Client_Permanent_Match_Tag     object\n",
       "Client_Contact_Work_Tag        object\n",
       "Type_Organization              object\n",
       "Score_Source_1                float64\n",
       "Score_Source_2                float64\n",
       "Score_Source_3                 object\n",
       "Social_Circle_Default         float64\n",
       "Phone_Change                  float64\n",
       "Credit_Bureau                 float64\n",
       "Default                         int64\n",
       "dtype: object"
      ]
     },
     "execution_count": 6,
     "metadata": {},
     "output_type": "execute_result"
    }
   ],
   "source": [
    "# Print data types for each variable\n",
    "train.dtypes"
   ]
  },
  {
   "cell_type": "code",
   "execution_count": 7,
   "metadata": {
    "pycharm": {
     "name": "#%%\n"
    }
   },
   "outputs": [
    {
     "name": "stdout",
     "output_type": "stream",
     "text": [
      "The shape of our features is: (121856, 40)\n"
     ]
    }
   ],
   "source": [
    "# Shape of the dataset\n",
    "# train.shape\n",
    "\n",
    "print('The shape of our features is:', train.shape)"
   ]
  },
  {
   "cell_type": "code",
   "execution_count": 8,
   "metadata": {
    "pycharm": {
     "name": "#%%\n"
    }
   },
   "outputs": [
    {
     "data": {
      "text/html": [
       "<div>\n",
       "<style scoped>\n",
       "    .dataframe tbody tr th:only-of-type {\n",
       "        vertical-align: middle;\n",
       "    }\n",
       "\n",
       "    .dataframe tbody tr th {\n",
       "        vertical-align: top;\n",
       "    }\n",
       "\n",
       "    .dataframe thead th {\n",
       "        text-align: right;\n",
       "    }\n",
       "</style>\n",
       "<table border=\"1\" class=\"dataframe\">\n",
       "  <thead>\n",
       "    <tr style=\"text-align: right;\">\n",
       "      <th></th>\n",
       "      <th>ID</th>\n",
       "      <th>Car_Owned</th>\n",
       "      <th>Bike_Owned</th>\n",
       "      <th>Active_Loan</th>\n",
       "      <th>House_Own</th>\n",
       "      <th>Child_Count</th>\n",
       "      <th>Own_House_Age</th>\n",
       "      <th>Mobile_Tag</th>\n",
       "      <th>Homephone_Tag</th>\n",
       "      <th>Workphone_Working</th>\n",
       "      <th>Client_Family_Members</th>\n",
       "      <th>Cleint_City_Rating</th>\n",
       "      <th>Application_Process_Day</th>\n",
       "      <th>Application_Process_Hour</th>\n",
       "      <th>Score_Source_1</th>\n",
       "      <th>Score_Source_2</th>\n",
       "      <th>Social_Circle_Default</th>\n",
       "      <th>Phone_Change</th>\n",
       "      <th>Credit_Bureau</th>\n",
       "      <th>Default</th>\n",
       "    </tr>\n",
       "  </thead>\n",
       "  <tbody>\n",
       "    <tr>\n",
       "      <th>count</th>\n",
       "      <td>1.218560e+05</td>\n",
       "      <td>118275.000000</td>\n",
       "      <td>118232.000000</td>\n",
       "      <td>118221.000000</td>\n",
       "      <td>118195.000000</td>\n",
       "      <td>118218.000000</td>\n",
       "      <td>41761.000000</td>\n",
       "      <td>121856.000000</td>\n",
       "      <td>121856.000000</td>\n",
       "      <td>121856.000000</td>\n",
       "      <td>119446.000000</td>\n",
       "      <td>119447.000000</td>\n",
       "      <td>119428.000000</td>\n",
       "      <td>118193.000000</td>\n",
       "      <td>53021.000000</td>\n",
       "      <td>116170.000000</td>\n",
       "      <td>59928.000000</td>\n",
       "      <td>118192.000000</td>\n",
       "      <td>103316.000000</td>\n",
       "      <td>121856.000000</td>\n",
       "    </tr>\n",
       "    <tr>\n",
       "      <th>mean</th>\n",
       "      <td>1.216093e+07</td>\n",
       "      <td>0.342854</td>\n",
       "      <td>0.332262</td>\n",
       "      <td>0.499175</td>\n",
       "      <td>0.692060</td>\n",
       "      <td>0.417779</td>\n",
       "      <td>12.157324</td>\n",
       "      <td>0.999992</td>\n",
       "      <td>0.200499</td>\n",
       "      <td>0.281201</td>\n",
       "      <td>2.154329</td>\n",
       "      <td>2.030038</td>\n",
       "      <td>3.159736</td>\n",
       "      <td>12.063100</td>\n",
       "      <td>0.501213</td>\n",
       "      <td>0.518625</td>\n",
       "      <td>0.117428</td>\n",
       "      <td>962.106056</td>\n",
       "      <td>1.891082</td>\n",
       "      <td>0.080792</td>\n",
       "    </tr>\n",
       "    <tr>\n",
       "      <th>std</th>\n",
       "      <td>3.517694e+04</td>\n",
       "      <td>0.474665</td>\n",
       "      <td>0.471026</td>\n",
       "      <td>0.500001</td>\n",
       "      <td>0.461644</td>\n",
       "      <td>0.728802</td>\n",
       "      <td>12.056079</td>\n",
       "      <td>0.002865</td>\n",
       "      <td>0.400375</td>\n",
       "      <td>0.449587</td>\n",
       "      <td>0.912686</td>\n",
       "      <td>0.504407</td>\n",
       "      <td>1.759045</td>\n",
       "      <td>3.280695</td>\n",
       "      <td>0.211204</td>\n",
       "      <td>0.740248</td>\n",
       "      <td>0.107974</td>\n",
       "      <td>827.976726</td>\n",
       "      <td>1.861921</td>\n",
       "      <td>0.272517</td>\n",
       "    </tr>\n",
       "    <tr>\n",
       "      <th>min</th>\n",
       "      <td>1.210000e+07</td>\n",
       "      <td>0.000000</td>\n",
       "      <td>0.000000</td>\n",
       "      <td>0.000000</td>\n",
       "      <td>0.000000</td>\n",
       "      <td>0.000000</td>\n",
       "      <td>0.000000</td>\n",
       "      <td>0.000000</td>\n",
       "      <td>0.000000</td>\n",
       "      <td>0.000000</td>\n",
       "      <td>1.000000</td>\n",
       "      <td>1.000000</td>\n",
       "      <td>0.000000</td>\n",
       "      <td>0.000000</td>\n",
       "      <td>0.014568</td>\n",
       "      <td>0.000005</td>\n",
       "      <td>0.000000</td>\n",
       "      <td>0.000000</td>\n",
       "      <td>0.000000</td>\n",
       "      <td>0.000000</td>\n",
       "    </tr>\n",
       "    <tr>\n",
       "      <th>25%</th>\n",
       "      <td>1.213046e+07</td>\n",
       "      <td>0.000000</td>\n",
       "      <td>0.000000</td>\n",
       "      <td>0.000000</td>\n",
       "      <td>0.000000</td>\n",
       "      <td>0.000000</td>\n",
       "      <td>5.000000</td>\n",
       "      <td>1.000000</td>\n",
       "      <td>0.000000</td>\n",
       "      <td>0.000000</td>\n",
       "      <td>2.000000</td>\n",
       "      <td>2.000000</td>\n",
       "      <td>2.000000</td>\n",
       "      <td>10.000000</td>\n",
       "      <td>0.333481</td>\n",
       "      <td>0.390164</td>\n",
       "      <td>0.057700</td>\n",
       "      <td>272.000000</td>\n",
       "      <td>0.000000</td>\n",
       "      <td>0.000000</td>\n",
       "    </tr>\n",
       "    <tr>\n",
       "      <th>50%</th>\n",
       "      <td>1.216093e+07</td>\n",
       "      <td>0.000000</td>\n",
       "      <td>0.000000</td>\n",
       "      <td>0.000000</td>\n",
       "      <td>1.000000</td>\n",
       "      <td>0.000000</td>\n",
       "      <td>9.000000</td>\n",
       "      <td>1.000000</td>\n",
       "      <td>0.000000</td>\n",
       "      <td>0.000000</td>\n",
       "      <td>2.000000</td>\n",
       "      <td>2.000000</td>\n",
       "      <td>3.000000</td>\n",
       "      <td>12.000000</td>\n",
       "      <td>0.504657</td>\n",
       "      <td>0.564978</td>\n",
       "      <td>0.088700</td>\n",
       "      <td>755.000000</td>\n",
       "      <td>1.000000</td>\n",
       "      <td>0.000000</td>\n",
       "    </tr>\n",
       "    <tr>\n",
       "      <th>75%</th>\n",
       "      <td>1.219139e+07</td>\n",
       "      <td>1.000000</td>\n",
       "      <td>1.000000</td>\n",
       "      <td>1.000000</td>\n",
       "      <td>1.000000</td>\n",
       "      <td>1.000000</td>\n",
       "      <td>15.000000</td>\n",
       "      <td>1.000000</td>\n",
       "      <td>0.000000</td>\n",
       "      <td>1.000000</td>\n",
       "      <td>3.000000</td>\n",
       "      <td>2.000000</td>\n",
       "      <td>5.000000</td>\n",
       "      <td>14.000000</td>\n",
       "      <td>0.673890</td>\n",
       "      <td>0.664011</td>\n",
       "      <td>0.148500</td>\n",
       "      <td>1570.000000</td>\n",
       "      <td>3.000000</td>\n",
       "      <td>0.000000</td>\n",
       "    </tr>\n",
       "    <tr>\n",
       "      <th>max</th>\n",
       "      <td>1.222186e+07</td>\n",
       "      <td>1.000000</td>\n",
       "      <td>1.000000</td>\n",
       "      <td>1.000000</td>\n",
       "      <td>1.000000</td>\n",
       "      <td>19.000000</td>\n",
       "      <td>69.000000</td>\n",
       "      <td>1.000000</td>\n",
       "      <td>1.000000</td>\n",
       "      <td>1.000000</td>\n",
       "      <td>16.000000</td>\n",
       "      <td>3.000000</td>\n",
       "      <td>6.000000</td>\n",
       "      <td>23.000000</td>\n",
       "      <td>0.945741</td>\n",
       "      <td>100.000000</td>\n",
       "      <td>1.000000</td>\n",
       "      <td>4185.000000</td>\n",
       "      <td>22.000000</td>\n",
       "      <td>1.000000</td>\n",
       "    </tr>\n",
       "  </tbody>\n",
       "</table>\n",
       "</div>"
      ],
      "text/plain": [
       "                 ID      Car_Owned     Bike_Owned    Active_Loan  \\\n",
       "count  1.218560e+05  118275.000000  118232.000000  118221.000000   \n",
       "mean   1.216093e+07       0.342854       0.332262       0.499175   \n",
       "std    3.517694e+04       0.474665       0.471026       0.500001   \n",
       "min    1.210000e+07       0.000000       0.000000       0.000000   \n",
       "25%    1.213046e+07       0.000000       0.000000       0.000000   \n",
       "50%    1.216093e+07       0.000000       0.000000       0.000000   \n",
       "75%    1.219139e+07       1.000000       1.000000       1.000000   \n",
       "max    1.222186e+07       1.000000       1.000000       1.000000   \n",
       "\n",
       "           House_Own    Child_Count  Own_House_Age     Mobile_Tag  \\\n",
       "count  118195.000000  118218.000000   41761.000000  121856.000000   \n",
       "mean        0.692060       0.417779      12.157324       0.999992   \n",
       "std         0.461644       0.728802      12.056079       0.002865   \n",
       "min         0.000000       0.000000       0.000000       0.000000   \n",
       "25%         0.000000       0.000000       5.000000       1.000000   \n",
       "50%         1.000000       0.000000       9.000000       1.000000   \n",
       "75%         1.000000       1.000000      15.000000       1.000000   \n",
       "max         1.000000      19.000000      69.000000       1.000000   \n",
       "\n",
       "       Homephone_Tag  Workphone_Working  Client_Family_Members  \\\n",
       "count  121856.000000      121856.000000          119446.000000   \n",
       "mean        0.200499           0.281201               2.154329   \n",
       "std         0.400375           0.449587               0.912686   \n",
       "min         0.000000           0.000000               1.000000   \n",
       "25%         0.000000           0.000000               2.000000   \n",
       "50%         0.000000           0.000000               2.000000   \n",
       "75%         0.000000           1.000000               3.000000   \n",
       "max         1.000000           1.000000              16.000000   \n",
       "\n",
       "       Cleint_City_Rating  Application_Process_Day  Application_Process_Hour  \\\n",
       "count       119447.000000            119428.000000             118193.000000   \n",
       "mean             2.030038                 3.159736                 12.063100   \n",
       "std              0.504407                 1.759045                  3.280695   \n",
       "min              1.000000                 0.000000                  0.000000   \n",
       "25%              2.000000                 2.000000                 10.000000   \n",
       "50%              2.000000                 3.000000                 12.000000   \n",
       "75%              2.000000                 5.000000                 14.000000   \n",
       "max              3.000000                 6.000000                 23.000000   \n",
       "\n",
       "       Score_Source_1  Score_Source_2  Social_Circle_Default   Phone_Change  \\\n",
       "count    53021.000000   116170.000000           59928.000000  118192.000000   \n",
       "mean         0.501213        0.518625               0.117428     962.106056   \n",
       "std          0.211204        0.740248               0.107974     827.976726   \n",
       "min          0.014568        0.000005               0.000000       0.000000   \n",
       "25%          0.333481        0.390164               0.057700     272.000000   \n",
       "50%          0.504657        0.564978               0.088700     755.000000   \n",
       "75%          0.673890        0.664011               0.148500    1570.000000   \n",
       "max          0.945741      100.000000               1.000000    4185.000000   \n",
       "\n",
       "       Credit_Bureau        Default  \n",
       "count  103316.000000  121856.000000  \n",
       "mean        1.891082       0.080792  \n",
       "std         1.861921       0.272517  \n",
       "min         0.000000       0.000000  \n",
       "25%         0.000000       0.000000  \n",
       "50%         1.000000       0.000000  \n",
       "75%         3.000000       0.000000  \n",
       "max        22.000000       1.000000  "
      ]
     },
     "execution_count": 8,
     "metadata": {},
     "output_type": "execute_result"
    }
   ],
   "source": [
    "# Descriptive statistics for each column\n",
    "train.describe()"
   ]
  },
  {
   "cell_type": "code",
   "execution_count": 9,
   "metadata": {
    "pycharm": {
     "name": "#%%\n"
    }
   },
   "outputs": [
    {
     "data": {
      "text/plain": [
       "Male      0.656907\n",
       "Female    0.343067\n",
       "XNA       0.000025\n",
       "Name: Client_Gender, dtype: float64"
      ]
     },
     "execution_count": 9,
     "metadata": {},
     "output_type": "execute_result"
    }
   ],
   "source": [
    "# train.value_counts(normalize=True)\n",
    "train['Client_Gender'].value_counts(normalize=True)"
   ]
  },
  {
   "cell_type": "code",
   "execution_count": 10,
   "metadata": {
    "pycharm": {
     "name": "#%%\n"
    }
   },
   "outputs": [
    {
     "data": {
      "text/plain": [
       "0    112011\n",
       "1      9845\n",
       "Name: Default, dtype: int64"
      ]
     },
     "execution_count": 10,
     "metadata": {},
     "output_type": "execute_result"
    }
   ],
   "source": [
    "# Normalize can be set to True to print proportions instead of number \n",
    "train['Default'].value_counts()"
   ]
  },
  {
   "cell_type": "code",
   "execution_count": 11,
   "metadata": {
    "pycharm": {
     "name": "#%%\n"
    }
   },
   "outputs": [
    {
     "data": {
      "text/plain": [
       "0    0.919208\n",
       "1    0.080792\n",
       "Name: Default, dtype: float64"
      ]
     },
     "execution_count": 11,
     "metadata": {},
     "output_type": "execute_result"
    }
   ],
   "source": [
    "# Normalize can be set to True to print proportions instead of number \n",
    "# train['Default'].value_counts(normalize=True)\n",
    "train['Default'].value_counts(normalize=True)\n",
    "# type(train['Default'].value_counts(normalize=True))"
   ]
  },
  {
   "cell_type": "code",
   "execution_count": 12,
   "metadata": {
    "pycharm": {
     "name": "#%%\n"
    }
   },
   "outputs": [
    {
     "name": "stdout",
     "output_type": "stream",
     "text": [
      "112011\n"
     ]
    }
   ],
   "source": [
    "print(train['Default'].value_counts()[0])"
   ]
  },
  {
   "cell_type": "code",
   "execution_count": 13,
   "metadata": {
    "pycharm": {
     "name": "#%%\n"
    }
   },
   "outputs": [
    {
     "data": {
      "text/plain": [
       "<AxesSubplot:title={'center':'Visualize the data in Default column'}>"
      ]
     },
     "execution_count": 13,
     "metadata": {},
     "output_type": "execute_result"
    },
    {
     "data": {
      "image/png": "[encoded data removed]",
      "text/plain": [
       "<Figure size 432x288 with 1 Axes>"
      ]
     },
     "metadata": {
      "needs_background": "light"
     },
     "output_type": "display_data"
    }
   ],
   "source": [
    "# Visualize the data in Default column\n",
    "train['Default'].value_counts().plot.bar(x='default values', y='count', color=['blue', 'red'],\n",
    "                                         title='Visualize the data in Default column')"
   ]
  },
  {
   "cell_type": "code",
   "execution_count": 14,
   "metadata": {
    "pycharm": {
     "name": "#%%\n"
    }
   },
   "outputs": [
    {
     "data": {
      "text/plain": [
       "M    0.737851\n",
       "S    0.147014\n",
       "D    0.063827\n",
       "W    0.051308\n",
       "Name: Client_Marital_Status, dtype: float64"
      ]
     },
     "execution_count": 14,
     "metadata": {},
     "output_type": "execute_result"
    }
   ],
   "source": [
    "train['Client_Marital_Status'].value_counts(normalize=True)"
   ]
  },
  {
   "cell_type": "code",
   "execution_count": 15,
   "metadata": {
    "pycharm": {
     "name": "#%%\n"
    }
   },
   "outputs": [
    {
     "data": {
      "image/png": "[encoded data removed]",
      "text/plain": [
       "<Figure size 1440x720 with 4 Axes>"
      ]
     },
     "metadata": {
      "needs_background": "light"
     },
     "output_type": "display_data"
    }
   ],
   "source": [
    "plt.figure(1)\n",
    "plt.subplot(221)\n",
    "train['Client_Gender'].value_counts(normalize=True).plot.bar(xlabel='Genders', ylabel='Proportion value',\n",
    "                                                             color=['blue', 'red'], title='Gender column',\n",
    "                                                             figsize=(20, 10))\n",
    "\n",
    "plt.subplot(222)\n",
    "train['Client_Marital_Status'].value_counts(normalize=True).plot.bar(title='Client_Marital_Status')\n",
    "\n",
    "plt.subplot(223)\n",
    "train['Client_Family_Members'].value_counts(normalize=True).plot.bar(title='Client_Family_Members')\n",
    "\n",
    "plt.subplot(224)\n",
    "train['Client_Education'].value_counts(normalize=True).plot.bar(title='Client_Education')\n",
    "\n",
    "plt.subplots_adjust(left=0.1,\n",
    "                    bottom=0.1,\n",
    "                    right=0.9,\n",
    "                    top=0.9,\n",
    "                    wspace=0.2,\n",
    "                    hspace=0.4)\n",
    "\n",
    "plt.show()"
   ]
  },
  {
   "cell_type": "code",
   "execution_count": 16,
   "metadata": {
    "pycharm": {
     "name": "#%%\n"
    }
   },
   "outputs": [],
   "source": [
    "### Data Pre-processing."
   ]
  },
  {
   "cell_type": "code",
   "execution_count": 17,
   "metadata": {
    "pycharm": {
     "name": "#%%\n"
    }
   },
   "outputs": [],
   "source": [
    "#list of columns which are in object type, to convert to numeric type\n",
    "full_data_frame = train\n",
    "starting_df = full_data_frame.drop(\n",
    "    columns=['ID', 'Score_Source_1', 'Score_Source_2', 'Score_Source_3', 'Credit_Bureau'])\n",
    "\n",
    "#list of columns which are in object type, to convert to numeric type\n",
    "to_convert_type_feat_list = ['Client_Income', 'Credit_Amount', 'Loan_Annuity', 'Population_Region_Relative', 'Age_Days',\n",
    "                             'Employed_Days', 'Registration_Days', 'ID_Days']\n",
    "\n",
    "#list of columns which are categorical type\n",
    "categorical_feat_list = ['Accompany_Client', 'Client_Income_Type', 'Client_Education', 'Client_Marital_Status',\n",
    "                         'Client_Gender', 'Loan_Contract_Type', 'Client_Housing_Type', 'Client_Occupation',\n",
    "                         'Client_Permanent_Match_Tag', 'Client_Contact_Work_Tag', 'Type_Organization']\n",
    "\n",
    "#list of columns which are numerical type\n",
    "numerical_feat_list = ['Bike_Owned', 'Active_Loan', 'House_Own', 'Child_Count', 'Own_House_Age', 'Mobile_Tag',\n",
    "                       'Homephone_Tag',\n",
    "                       'Workphone_Working', 'Client_Family_Members', 'Cleint_City_Rating', 'Application_Process_Day',\n",
    "                       'Application_Process_Hour', 'Social_Circle_Default', 'Phone_Change', 'Default']\n"
   ]
  },
  {
   "cell_type": "code",
   "execution_count": 18,
   "metadata": {
    "pycharm": {
     "name": "#%%\n"
    },
    "scrolled": true
   },
   "outputs": [
    {
     "data": {
      "text/html": [
       "<div>\n",
       "<style scoped>\n",
       "    .dataframe tbody tr th:only-of-type {\n",
       "        vertical-align: middle;\n",
       "    }\n",
       "\n",
       "    .dataframe tbody tr th {\n",
       "        vertical-align: top;\n",
       "    }\n",
       "\n",
       "    .dataframe thead th {\n",
       "        text-align: right;\n",
       "    }\n",
       "</style>\n",
       "<table border=\"1\" class=\"dataframe\">\n",
       "  <thead>\n",
       "    <tr style=\"text-align: right;\">\n",
       "      <th></th>\n",
       "      <th>Client_Income</th>\n",
       "      <th>Car_Owned</th>\n",
       "      <th>Bike_Owned</th>\n",
       "      <th>Active_Loan</th>\n",
       "      <th>House_Own</th>\n",
       "      <th>Child_Count</th>\n",
       "      <th>Credit_Amount</th>\n",
       "      <th>Loan_Annuity</th>\n",
       "      <th>Accompany_Client</th>\n",
       "      <th>Client_Income_Type</th>\n",
       "      <th>...</th>\n",
       "      <th>Client_Family_Members</th>\n",
       "      <th>Cleint_City_Rating</th>\n",
       "      <th>Application_Process_Day</th>\n",
       "      <th>Application_Process_Hour</th>\n",
       "      <th>Client_Permanent_Match_Tag</th>\n",
       "      <th>Client_Contact_Work_Tag</th>\n",
       "      <th>Type_Organization</th>\n",
       "      <th>Social_Circle_Default</th>\n",
       "      <th>Phone_Change</th>\n",
       "      <th>Default</th>\n",
       "    </tr>\n",
       "  </thead>\n",
       "  <tbody>\n",
       "    <tr>\n",
       "      <th>0</th>\n",
       "      <td>6750</td>\n",
       "      <td>0.0</td>\n",
       "      <td>0.0</td>\n",
       "      <td>1.0</td>\n",
       "      <td>0.0</td>\n",
       "      <td>0.0</td>\n",
       "      <td>61190.55</td>\n",
       "      <td>3416.85</td>\n",
       "      <td>Alone</td>\n",
       "      <td>Commercial</td>\n",
       "      <td>...</td>\n",
       "      <td>2.0</td>\n",
       "      <td>2.0</td>\n",
       "      <td>6.0</td>\n",
       "      <td>17.0</td>\n",
       "      <td>Yes</td>\n",
       "      <td>Yes</td>\n",
       "      <td>Self-employed</td>\n",
       "      <td>0.0186</td>\n",
       "      <td>63.0</td>\n",
       "      <td>0</td>\n",
       "    </tr>\n",
       "    <tr>\n",
       "      <th>1</th>\n",
       "      <td>20250</td>\n",
       "      <td>1.0</td>\n",
       "      <td>0.0</td>\n",
       "      <td>1.0</td>\n",
       "      <td>NaN</td>\n",
       "      <td>0.0</td>\n",
       "      <td>15282</td>\n",
       "      <td>1826.55</td>\n",
       "      <td>Alone</td>\n",
       "      <td>Service</td>\n",
       "      <td>...</td>\n",
       "      <td>2.0</td>\n",
       "      <td>2.0</td>\n",
       "      <td>3.0</td>\n",
       "      <td>10.0</td>\n",
       "      <td>Yes</td>\n",
       "      <td>Yes</td>\n",
       "      <td>Government</td>\n",
       "      <td>NaN</td>\n",
       "      <td>NaN</td>\n",
       "      <td>0</td>\n",
       "    </tr>\n",
       "    <tr>\n",
       "      <th>2</th>\n",
       "      <td>18000</td>\n",
       "      <td>0.0</td>\n",
       "      <td>0.0</td>\n",
       "      <td>1.0</td>\n",
       "      <td>0.0</td>\n",
       "      <td>1.0</td>\n",
       "      <td>59527.35</td>\n",
       "      <td>2788.2</td>\n",
       "      <td>Alone</td>\n",
       "      <td>Service</td>\n",
       "      <td>...</td>\n",
       "      <td>2.0</td>\n",
       "      <td>2.0</td>\n",
       "      <td>4.0</td>\n",
       "      <td>NaN</td>\n",
       "      <td>Yes</td>\n",
       "      <td>Yes</td>\n",
       "      <td>Self-employed</td>\n",
       "      <td>0.0742</td>\n",
       "      <td>277.0</td>\n",
       "      <td>0</td>\n",
       "    </tr>\n",
       "    <tr>\n",
       "      <th>3</th>\n",
       "      <td>15750</td>\n",
       "      <td>0.0</td>\n",
       "      <td>0.0</td>\n",
       "      <td>1.0</td>\n",
       "      <td>1.0</td>\n",
       "      <td>0.0</td>\n",
       "      <td>53870.4</td>\n",
       "      <td>2295.45</td>\n",
       "      <td>Alone</td>\n",
       "      <td>Retired</td>\n",
       "      <td>...</td>\n",
       "      <td>2.0</td>\n",
       "      <td>3.0</td>\n",
       "      <td>2.0</td>\n",
       "      <td>15.0</td>\n",
       "      <td>Yes</td>\n",
       "      <td>Yes</td>\n",
       "      <td>XNA</td>\n",
       "      <td>NaN</td>\n",
       "      <td>1700.0</td>\n",
       "      <td>0</td>\n",
       "    </tr>\n",
       "    <tr>\n",
       "      <th>4</th>\n",
       "      <td>33750</td>\n",
       "      <td>1.0</td>\n",
       "      <td>0.0</td>\n",
       "      <td>1.0</td>\n",
       "      <td>0.0</td>\n",
       "      <td>2.0</td>\n",
       "      <td>133988.4</td>\n",
       "      <td>3547.35</td>\n",
       "      <td>Alone</td>\n",
       "      <td>Commercial</td>\n",
       "      <td>...</td>\n",
       "      <td>4.0</td>\n",
       "      <td>1.0</td>\n",
       "      <td>3.0</td>\n",
       "      <td>NaN</td>\n",
       "      <td>Yes</td>\n",
       "      <td>Yes</td>\n",
       "      <td>Business Entity Type 3</td>\n",
       "      <td>0.2021</td>\n",
       "      <td>674.0</td>\n",
       "      <td>0</td>\n",
       "    </tr>\n",
       "    <tr>\n",
       "      <th>...</th>\n",
       "      <td>...</td>\n",
       "      <td>...</td>\n",
       "      <td>...</td>\n",
       "      <td>...</td>\n",
       "      <td>...</td>\n",
       "      <td>...</td>\n",
       "      <td>...</td>\n",
       "      <td>...</td>\n",
       "      <td>...</td>\n",
       "      <td>...</td>\n",
       "      <td>...</td>\n",
       "      <td>...</td>\n",
       "      <td>...</td>\n",
       "      <td>...</td>\n",
       "      <td>...</td>\n",
       "      <td>...</td>\n",
       "      <td>...</td>\n",
       "      <td>...</td>\n",
       "      <td>...</td>\n",
       "      <td>...</td>\n",
       "      <td>...</td>\n",
       "    </tr>\n",
       "    <tr>\n",
       "      <th>121851</th>\n",
       "      <td>29250</td>\n",
       "      <td>0.0</td>\n",
       "      <td>0.0</td>\n",
       "      <td>NaN</td>\n",
       "      <td>1.0</td>\n",
       "      <td>0.0</td>\n",
       "      <td>107820</td>\n",
       "      <td>3165.3</td>\n",
       "      <td>Relative</td>\n",
       "      <td>Service</td>\n",
       "      <td>...</td>\n",
       "      <td>2.0</td>\n",
       "      <td>2.0</td>\n",
       "      <td>4.0</td>\n",
       "      <td>16.0</td>\n",
       "      <td>Yes</td>\n",
       "      <td>No</td>\n",
       "      <td>Business Entity Type 2</td>\n",
       "      <td>0.0577</td>\n",
       "      <td>0.0</td>\n",
       "      <td>1</td>\n",
       "    </tr>\n",
       "    <tr>\n",
       "      <th>121852</th>\n",
       "      <td>15750</td>\n",
       "      <td>0.0</td>\n",
       "      <td>1.0</td>\n",
       "      <td>1.0</td>\n",
       "      <td>0.0</td>\n",
       "      <td>0.0</td>\n",
       "      <td>104256</td>\n",
       "      <td>3388.05</td>\n",
       "      <td>Alone</td>\n",
       "      <td>Commercial</td>\n",
       "      <td>...</td>\n",
       "      <td>2.0</td>\n",
       "      <td>3.0</td>\n",
       "      <td>4.0</td>\n",
       "      <td>12.0</td>\n",
       "      <td>Yes</td>\n",
       "      <td>Yes</td>\n",
       "      <td>Self-employed</td>\n",
       "      <td>0.0825</td>\n",
       "      <td>4.0</td>\n",
       "      <td>0</td>\n",
       "    </tr>\n",
       "    <tr>\n",
       "      <th>121853</th>\n",
       "      <td>8100</td>\n",
       "      <td>0.0</td>\n",
       "      <td>1.0</td>\n",
       "      <td>0.0</td>\n",
       "      <td>1.0</td>\n",
       "      <td>1.0</td>\n",
       "      <td>55107.9</td>\n",
       "      <td>2989.35</td>\n",
       "      <td>Alone</td>\n",
       "      <td>Govt Job</td>\n",
       "      <td>...</td>\n",
       "      <td>3.0</td>\n",
       "      <td>3.0</td>\n",
       "      <td>5.0</td>\n",
       "      <td>11.0</td>\n",
       "      <td>No</td>\n",
       "      <td>No</td>\n",
       "      <td>Trade: type 6</td>\n",
       "      <td>NaN</td>\n",
       "      <td>0.0</td>\n",
       "      <td>0</td>\n",
       "    </tr>\n",
       "    <tr>\n",
       "      <th>121854</th>\n",
       "      <td>38250</td>\n",
       "      <td>1.0</td>\n",
       "      <td>1.0</td>\n",
       "      <td>0.0</td>\n",
       "      <td>1.0</td>\n",
       "      <td>0.0</td>\n",
       "      <td>45000</td>\n",
       "      <td>2719.35</td>\n",
       "      <td>Alone</td>\n",
       "      <td>Service</td>\n",
       "      <td>...</td>\n",
       "      <td>2.0</td>\n",
       "      <td>2.0</td>\n",
       "      <td>1.0</td>\n",
       "      <td>12.0</td>\n",
       "      <td>Yes</td>\n",
       "      <td>Yes</td>\n",
       "      <td>Business Entity Type 3</td>\n",
       "      <td>0.0979</td>\n",
       "      <td>0.0</td>\n",
       "      <td>0</td>\n",
       "    </tr>\n",
       "    <tr>\n",
       "      <th>121855</th>\n",
       "      <td>9000</td>\n",
       "      <td>1.0</td>\n",
       "      <td>1.0</td>\n",
       "      <td>1.0</td>\n",
       "      <td>1.0</td>\n",
       "      <td>1.0</td>\n",
       "      <td>62428.95</td>\n",
       "      <td>4201.65</td>\n",
       "      <td>Alone</td>\n",
       "      <td>Commercial</td>\n",
       "      <td>...</td>\n",
       "      <td>2.0</td>\n",
       "      <td>3.0</td>\n",
       "      <td>4.0</td>\n",
       "      <td>6.0</td>\n",
       "      <td>Yes</td>\n",
       "      <td>Yes</td>\n",
       "      <td>Business Entity Type 3</td>\n",
       "      <td>0.1031</td>\n",
       "      <td>805.0</td>\n",
       "      <td>0</td>\n",
       "    </tr>\n",
       "  </tbody>\n",
       "</table>\n",
       "<p>121856 rows × 35 columns</p>\n",
       "</div>"
      ],
      "text/plain": [
       "       Client_Income  Car_Owned  Bike_Owned  Active_Loan  House_Own  \\\n",
       "0               6750        0.0         0.0          1.0        0.0   \n",
       "1              20250        1.0         0.0          1.0        NaN   \n",
       "2              18000        0.0         0.0          1.0        0.0   \n",
       "3              15750        0.0         0.0          1.0        1.0   \n",
       "4              33750        1.0         0.0          1.0        0.0   \n",
       "...              ...        ...         ...          ...        ...   \n",
       "121851         29250        0.0         0.0          NaN        1.0   \n",
       "121852         15750        0.0         1.0          1.0        0.0   \n",
       "121853          8100        0.0         1.0          0.0        1.0   \n",
       "121854         38250        1.0         1.0          0.0        1.0   \n",
       "121855          9000        1.0         1.0          1.0        1.0   \n",
       "\n",
       "        Child_Count Credit_Amount Loan_Annuity Accompany_Client  \\\n",
       "0               0.0      61190.55      3416.85            Alone   \n",
       "1               0.0         15282      1826.55            Alone   \n",
       "2               1.0      59527.35       2788.2            Alone   \n",
       "3               0.0       53870.4      2295.45            Alone   \n",
       "4               2.0      133988.4      3547.35            Alone   \n",
       "...             ...           ...          ...              ...   \n",
       "121851          0.0        107820       3165.3         Relative   \n",
       "121852          0.0        104256      3388.05            Alone   \n",
       "121853          1.0       55107.9      2989.35            Alone   \n",
       "121854          0.0         45000      2719.35            Alone   \n",
       "121855          1.0      62428.95      4201.65            Alone   \n",
       "\n",
       "       Client_Income_Type  ... Client_Family_Members Cleint_City_Rating  \\\n",
       "0              Commercial  ...                   2.0                2.0   \n",
       "1                 Service  ...                   2.0                2.0   \n",
       "2                 Service  ...                   2.0                2.0   \n",
       "3                 Retired  ...                   2.0                3.0   \n",
       "4              Commercial  ...                   4.0                1.0   \n",
       "...                   ...  ...                   ...                ...   \n",
       "121851            Service  ...                   2.0                2.0   \n",
       "121852         Commercial  ...                   2.0                3.0   \n",
       "121853           Govt Job  ...                   3.0                3.0   \n",
       "121854            Service  ...                   2.0                2.0   \n",
       "121855         Commercial  ...                   2.0                3.0   \n",
       "\n",
       "       Application_Process_Day Application_Process_Hour  \\\n",
       "0                          6.0                     17.0   \n",
       "1                          3.0                     10.0   \n",
       "2                          4.0                      NaN   \n",
       "3                          2.0                     15.0   \n",
       "4                          3.0                      NaN   \n",
       "...                        ...                      ...   \n",
       "121851                     4.0                     16.0   \n",
       "121852                     4.0                     12.0   \n",
       "121853                     5.0                     11.0   \n",
       "121854                     1.0                     12.0   \n",
       "121855                     4.0                      6.0   \n",
       "\n",
       "       Client_Permanent_Match_Tag Client_Contact_Work_Tag  \\\n",
       "0                             Yes                     Yes   \n",
       "1                             Yes                     Yes   \n",
       "2                             Yes                     Yes   \n",
       "3                             Yes                     Yes   \n",
       "4                             Yes                     Yes   \n",
       "...                           ...                     ...   \n",
       "121851                        Yes                      No   \n",
       "121852                        Yes                     Yes   \n",
       "121853                         No                      No   \n",
       "121854                        Yes                     Yes   \n",
       "121855                        Yes                     Yes   \n",
       "\n",
       "             Type_Organization Social_Circle_Default Phone_Change Default  \n",
       "0                Self-employed                0.0186         63.0       0  \n",
       "1                   Government                   NaN          NaN       0  \n",
       "2                Self-employed                0.0742        277.0       0  \n",
       "3                          XNA                   NaN       1700.0       0  \n",
       "4       Business Entity Type 3                0.2021        674.0       0  \n",
       "...                        ...                   ...          ...     ...  \n",
       "121851  Business Entity Type 2                0.0577          0.0       1  \n",
       "121852           Self-employed                0.0825          4.0       0  \n",
       "121853           Trade: type 6                   NaN          0.0       0  \n",
       "121854  Business Entity Type 3                0.0979          0.0       0  \n",
       "121855  Business Entity Type 3                0.1031        805.0       0  \n",
       "\n",
       "[121856 rows x 35 columns]"
      ]
     },
     "execution_count": 18,
     "metadata": {},
     "output_type": "execute_result"
    }
   ],
   "source": [
    "starting_df"
   ]
  },
  {
   "cell_type": "code",
   "execution_count": 19,
   "metadata": {
    "pycharm": {
     "name": "#%%\n"
    }
   },
   "outputs": [],
   "source": [
    "### Data visualization for categorical columns"
   ]
  },
  {
   "cell_type": "code",
   "execution_count": 20,
   "metadata": {
    "pycharm": {
     "name": "#%%\n"
    }
   },
   "outputs": [
    {
     "data": {
      "image/png": "[encoded data removed]",
      "text/plain": [
       "<Figure size 2160x2160 with 12 Axes>"
      ]
     },
     "metadata": {
      "needs_background": "light"
     },
     "output_type": "display_data"
    }
   ],
   "source": [
    "figure, axes = plt.subplots(6, 2, figsize=(30, 30))\n",
    "for index, cat_col in enumerate(categorical_feat_list):\n",
    "    row, col = index // 2, index % 2\n",
    "    sb.countplot(x=cat_col, data=full_data_frame, hue='Default', ax=axes[row, col])\n",
    "\n",
    "plt.subplots_adjust(hspace=1)"
   ]
  },
  {
   "cell_type": "code",
   "execution_count": 21,
   "metadata": {
    "pycharm": {
     "name": "#%%\n"
    }
   },
   "outputs": [],
   "source": [
    "## Let's convert object type columns to float type\n",
    "\n",
    "for col in starting_df:\n",
    "    if col in to_convert_type_feat_list:\n",
    "        starting_df[col] = pd.to_numeric(starting_df[col],\n",
    "                                         errors='coerce')  # If ‘coerce’, then invalid parsing will be set as NaN.\n",
    "        numerical_feat_list.append(col)"
   ]
  },
  {
   "cell_type": "code",
   "execution_count": 22,
   "metadata": {
    "pycharm": {
     "name": "#%%\n"
    }
   },
   "outputs": [
    {
     "name": "stdout",
     "output_type": "stream",
     "text": [
      "['Bike_Owned', 'Active_Loan', 'House_Own', 'Child_Count', 'Own_House_Age', 'Mobile_Tag', 'Homephone_Tag', 'Workphone_Working', 'Client_Family_Members', 'Cleint_City_Rating', 'Application_Process_Day', 'Application_Process_Hour', 'Social_Circle_Default', 'Phone_Change', 'Default', 'Client_Income', 'Credit_Amount', 'Loan_Annuity', 'Population_Region_Relative', 'Age_Days', 'Employed_Days', 'Registration_Days', 'ID_Days']\n"
     ]
    }
   ],
   "source": [
    "print(numerical_feat_list)"
   ]
  },
  {
   "cell_type": "code",
   "execution_count": 23,
   "metadata": {
    "pycharm": {
     "name": "#%%\n"
    }
   },
   "outputs": [],
   "source": [
    "temp_list_for_categorical_feat = []\n",
    "for col in starting_df:\n",
    "    if col in categorical_feat_list:\n",
    "        temp_list_for_categorical_feat.append(col)"
   ]
  },
  {
   "cell_type": "code",
   "execution_count": 24,
   "metadata": {
    "pycharm": {
     "name": "#%%\n"
    }
   },
   "outputs": [],
   "source": [
    "### Let's drop the Type_Organization feature/column since it is not usefull and contains XNA values."
   ]
  },
  {
   "cell_type": "code",
   "execution_count": 25,
   "metadata": {
    "pycharm": {
     "name": "#%%\n"
    }
   },
   "outputs": [],
   "source": [
    "starting_df = starting_df.drop(['Type_Organization'], axis=1)\n",
    "\n",
    "# remove the feature/column from the temp_list_for_categorical_feat\n",
    "temp_list_for_categorical_feat.remove('Type_Organization')"
   ]
  },
  {
   "cell_type": "code",
   "execution_count": 26,
   "metadata": {
    "pycharm": {
     "name": "#%%\n"
    }
   },
   "outputs": [
    {
     "data": {
      "text/html": [
       "<div>\n",
       "<style scoped>\n",
       "    .dataframe tbody tr th:only-of-type {\n",
       "        vertical-align: middle;\n",
       "    }\n",
       "\n",
       "    .dataframe tbody tr th {\n",
       "        vertical-align: top;\n",
       "    }\n",
       "\n",
       "    .dataframe thead th {\n",
       "        text-align: right;\n",
       "    }\n",
       "</style>\n",
       "<table border=\"1\" class=\"dataframe\">\n",
       "  <thead>\n",
       "    <tr style=\"text-align: right;\">\n",
       "      <th></th>\n",
       "      <th>Client_Income</th>\n",
       "      <th>Car_Owned</th>\n",
       "      <th>Bike_Owned</th>\n",
       "      <th>Active_Loan</th>\n",
       "      <th>House_Own</th>\n",
       "      <th>Child_Count</th>\n",
       "      <th>Credit_Amount</th>\n",
       "      <th>Loan_Annuity</th>\n",
       "      <th>Accompany_Client</th>\n",
       "      <th>Client_Income_Type</th>\n",
       "      <th>...</th>\n",
       "      <th>Client_Occupation</th>\n",
       "      <th>Client_Family_Members</th>\n",
       "      <th>Cleint_City_Rating</th>\n",
       "      <th>Application_Process_Day</th>\n",
       "      <th>Application_Process_Hour</th>\n",
       "      <th>Client_Permanent_Match_Tag</th>\n",
       "      <th>Client_Contact_Work_Tag</th>\n",
       "      <th>Social_Circle_Default</th>\n",
       "      <th>Phone_Change</th>\n",
       "      <th>Default</th>\n",
       "    </tr>\n",
       "  </thead>\n",
       "  <tbody>\n",
       "    <tr>\n",
       "      <th>0</th>\n",
       "      <td>6750.0</td>\n",
       "      <td>0.0</td>\n",
       "      <td>0.0</td>\n",
       "      <td>1.0</td>\n",
       "      <td>0.0</td>\n",
       "      <td>0.0</td>\n",
       "      <td>61190.55</td>\n",
       "      <td>3416.85</td>\n",
       "      <td>Alone</td>\n",
       "      <td>Commercial</td>\n",
       "      <td>...</td>\n",
       "      <td>Sales</td>\n",
       "      <td>2.0</td>\n",
       "      <td>2.0</td>\n",
       "      <td>6.0</td>\n",
       "      <td>17.0</td>\n",
       "      <td>Yes</td>\n",
       "      <td>Yes</td>\n",
       "      <td>0.0186</td>\n",
       "      <td>63.0</td>\n",
       "      <td>0</td>\n",
       "    </tr>\n",
       "    <tr>\n",
       "      <th>1</th>\n",
       "      <td>20250.0</td>\n",
       "      <td>1.0</td>\n",
       "      <td>0.0</td>\n",
       "      <td>1.0</td>\n",
       "      <td>NaN</td>\n",
       "      <td>0.0</td>\n",
       "      <td>15282.00</td>\n",
       "      <td>1826.55</td>\n",
       "      <td>Alone</td>\n",
       "      <td>Service</td>\n",
       "      <td>...</td>\n",
       "      <td>NaN</td>\n",
       "      <td>2.0</td>\n",
       "      <td>2.0</td>\n",
       "      <td>3.0</td>\n",
       "      <td>10.0</td>\n",
       "      <td>Yes</td>\n",
       "      <td>Yes</td>\n",
       "      <td>NaN</td>\n",
       "      <td>NaN</td>\n",
       "      <td>0</td>\n",
       "    </tr>\n",
       "    <tr>\n",
       "      <th>2</th>\n",
       "      <td>18000.0</td>\n",
       "      <td>0.0</td>\n",
       "      <td>0.0</td>\n",
       "      <td>1.0</td>\n",
       "      <td>0.0</td>\n",
       "      <td>1.0</td>\n",
       "      <td>59527.35</td>\n",
       "      <td>2788.20</td>\n",
       "      <td>Alone</td>\n",
       "      <td>Service</td>\n",
       "      <td>...</td>\n",
       "      <td>Realty agents</td>\n",
       "      <td>2.0</td>\n",
       "      <td>2.0</td>\n",
       "      <td>4.0</td>\n",
       "      <td>NaN</td>\n",
       "      <td>Yes</td>\n",
       "      <td>Yes</td>\n",
       "      <td>0.0742</td>\n",
       "      <td>277.0</td>\n",
       "      <td>0</td>\n",
       "    </tr>\n",
       "    <tr>\n",
       "      <th>3</th>\n",
       "      <td>15750.0</td>\n",
       "      <td>0.0</td>\n",
       "      <td>0.0</td>\n",
       "      <td>1.0</td>\n",
       "      <td>1.0</td>\n",
       "      <td>0.0</td>\n",
       "      <td>53870.40</td>\n",
       "      <td>2295.45</td>\n",
       "      <td>Alone</td>\n",
       "      <td>Retired</td>\n",
       "      <td>...</td>\n",
       "      <td>NaN</td>\n",
       "      <td>2.0</td>\n",
       "      <td>3.0</td>\n",
       "      <td>2.0</td>\n",
       "      <td>15.0</td>\n",
       "      <td>Yes</td>\n",
       "      <td>Yes</td>\n",
       "      <td>NaN</td>\n",
       "      <td>1700.0</td>\n",
       "      <td>0</td>\n",
       "    </tr>\n",
       "    <tr>\n",
       "      <th>4</th>\n",
       "      <td>33750.0</td>\n",
       "      <td>1.0</td>\n",
       "      <td>0.0</td>\n",
       "      <td>1.0</td>\n",
       "      <td>0.0</td>\n",
       "      <td>2.0</td>\n",
       "      <td>133988.40</td>\n",
       "      <td>3547.35</td>\n",
       "      <td>Alone</td>\n",
       "      <td>Commercial</td>\n",
       "      <td>...</td>\n",
       "      <td>Laborers</td>\n",
       "      <td>4.0</td>\n",
       "      <td>1.0</td>\n",
       "      <td>3.0</td>\n",
       "      <td>NaN</td>\n",
       "      <td>Yes</td>\n",
       "      <td>Yes</td>\n",
       "      <td>0.2021</td>\n",
       "      <td>674.0</td>\n",
       "      <td>0</td>\n",
       "    </tr>\n",
       "  </tbody>\n",
       "</table>\n",
       "<p>5 rows × 34 columns</p>\n",
       "</div>"
      ],
      "text/plain": [
       "   Client_Income  Car_Owned  Bike_Owned  Active_Loan  House_Own  Child_Count  \\\n",
       "0         6750.0        0.0         0.0          1.0        0.0          0.0   \n",
       "1        20250.0        1.0         0.0          1.0        NaN          0.0   \n",
       "2        18000.0        0.0         0.0          1.0        0.0          1.0   \n",
       "3        15750.0        0.0         0.0          1.0        1.0          0.0   \n",
       "4        33750.0        1.0         0.0          1.0        0.0          2.0   \n",
       "\n",
       "   Credit_Amount  Loan_Annuity Accompany_Client Client_Income_Type  ...  \\\n",
       "0       61190.55       3416.85            Alone         Commercial  ...   \n",
       "1       15282.00       1826.55            Alone            Service  ...   \n",
       "2       59527.35       2788.20            Alone            Service  ...   \n",
       "3       53870.40       2295.45            Alone            Retired  ...   \n",
       "4      133988.40       3547.35            Alone         Commercial  ...   \n",
       "\n",
       "  Client_Occupation Client_Family_Members Cleint_City_Rating  \\\n",
       "0             Sales                   2.0                2.0   \n",
       "1               NaN                   2.0                2.0   \n",
       "2     Realty agents                   2.0                2.0   \n",
       "3               NaN                   2.0                3.0   \n",
       "4          Laborers                   4.0                1.0   \n",
       "\n",
       "  Application_Process_Day Application_Process_Hour  \\\n",
       "0                     6.0                     17.0   \n",
       "1                     3.0                     10.0   \n",
       "2                     4.0                      NaN   \n",
       "3                     2.0                     15.0   \n",
       "4                     3.0                      NaN   \n",
       "\n",
       "   Client_Permanent_Match_Tag  Client_Contact_Work_Tag  Social_Circle_Default  \\\n",
       "0                         Yes                      Yes                 0.0186   \n",
       "1                         Yes                      Yes                    NaN   \n",
       "2                         Yes                      Yes                 0.0742   \n",
       "3                         Yes                      Yes                    NaN   \n",
       "4                         Yes                      Yes                 0.2021   \n",
       "\n",
       "   Phone_Change  Default  \n",
       "0          63.0        0  \n",
       "1           NaN        0  \n",
       "2         277.0        0  \n",
       "3        1700.0        0  \n",
       "4         674.0        0  \n",
       "\n",
       "[5 rows x 34 columns]"
      ]
     },
     "execution_count": 26,
     "metadata": {},
     "output_type": "execute_result"
    }
   ],
   "source": [
    "starting_df.head(5)"
   ]
  },
  {
   "cell_type": "code",
   "execution_count": 27,
   "metadata": {},
   "outputs": [
    {
     "data": {
      "text/plain": [
       "Male      0.656907\n",
       "Female    0.343067\n",
       "XNA       0.000025\n",
       "Name: Client_Gender, dtype: float64"
      ]
     },
     "execution_count": 27,
     "metadata": {},
     "output_type": "execute_result"
    }
   ],
   "source": [
    "## There are XNA values in feature/column\n",
    "starting_df['Client_Gender'].value_counts(normalize=True)"
   ]
  },
  {
   "cell_type": "code",
   "execution_count": 28,
   "metadata": {},
   "outputs": [],
   "source": [
    "## Let's remove XNA Remove values"
   ]
  },
  {
   "cell_type": "code",
   "execution_count": 29,
   "metadata": {},
   "outputs": [],
   "source": [
    "for value in starting_df['Client_Gender']:\n",
    "    if value == 'XNA':\n",
    "        starting_df.drop(starting_df[starting_df['Client_Gender'] == 'XNA'].index, inplace = True)"
   ]
  },
  {
   "cell_type": "code",
   "execution_count": 30,
   "metadata": {},
   "outputs": [
    {
     "data": {
      "text/plain": [
       "Male      0.656924\n",
       "Female    0.343076\n",
       "Name: Client_Gender, dtype: float64"
      ]
     },
     "execution_count": 30,
     "metadata": {},
     "output_type": "execute_result"
    }
   ],
   "source": [
    "## Now There are no XNA values in feature/column\n",
    "starting_df['Client_Gender'].value_counts(normalize=True)"
   ]
  },
  {
   "cell_type": "code",
   "execution_count": 31,
   "metadata": {},
   "outputs": [
    {
     "name": "stdout",
     "output_type": "stream",
     "text": [
      "0            Alone\n",
      "1            Alone\n",
      "2            Alone\n",
      "3            Alone\n",
      "4            Alone\n",
      "            ...   \n",
      "121851    Relative\n",
      "121852       Alone\n",
      "121853       Alone\n",
      "121854       Alone\n",
      "121855       Alone\n",
      "Name: Accompany_Client, Length: 121856, dtype: object - 7\n",
      "0         Commercial\n",
      "1            Service\n",
      "2            Service\n",
      "3            Retired\n",
      "4         Commercial\n",
      "             ...    \n",
      "121851       Service\n",
      "121852    Commercial\n",
      "121853      Govt Job\n",
      "121854       Service\n",
      "121855    Commercial\n",
      "Name: Client_Income_Type, Length: 121856, dtype: object - 8\n",
      "0                  Secondary\n",
      "1                 Graduation\n",
      "2         Graduation dropout\n",
      "3                  Secondary\n",
      "4                  Secondary\n",
      "                 ...        \n",
      "121851             Secondary\n",
      "121852            Graduation\n",
      "121853             Secondary\n",
      "121854            Graduation\n",
      "121855             Secondary\n",
      "Name: Client_Education, Length: 121856, dtype: object - 5\n",
      "0         M\n",
      "1         M\n",
      "2         W\n",
      "3         M\n",
      "4         M\n",
      "         ..\n",
      "121851    M\n",
      "121852    M\n",
      "121853    M\n",
      "121854    M\n",
      "121855    S\n",
      "Name: Client_Marital_Status, Length: 121856, dtype: object - 4\n",
      "0           Male\n",
      "1           Male\n",
      "2           Male\n",
      "3           Male\n",
      "4         Female\n",
      "           ...  \n",
      "121851    Female\n",
      "121852    Female\n",
      "121853      Male\n",
      "121854    Female\n",
      "121855      Male\n",
      "Name: Client_Gender, Length: 121856, dtype: object - 3\n",
      "0         CL\n",
      "1         CL\n",
      "2         CL\n",
      "3         CL\n",
      "4         CL\n",
      "          ..\n",
      "121851    CL\n",
      "121852    CL\n",
      "121853    CL\n",
      "121854    CL\n",
      "121855    CL\n",
      "Name: Loan_Contract_Type, Length: 121856, dtype: object - 2\n",
      "0           Home\n",
      "1           Home\n",
      "2         Family\n",
      "3           Home\n",
      "4           Home\n",
      "           ...  \n",
      "121851      Home\n",
      "121852      Home\n",
      "121853      Home\n",
      "121854      Home\n",
      "121855      Home\n",
      "Name: Client_Housing_Type, Length: 121856, dtype: object - 6\n",
      "0                   Sales\n",
      "1                     NaN\n",
      "2           Realty agents\n",
      "3                     NaN\n",
      "4                Laborers\n",
      "               ...       \n",
      "121851           Laborers\n",
      "121852              Sales\n",
      "121853    High skill tech\n",
      "121854              Sales\n",
      "121855           Managers\n",
      "Name: Client_Occupation, Length: 121856, dtype: object - 18\n",
      "0         Yes\n",
      "1         Yes\n",
      "2         Yes\n",
      "3         Yes\n",
      "4         Yes\n",
      "         ... \n",
      "121851    Yes\n",
      "121852    Yes\n",
      "121853     No\n",
      "121854    Yes\n",
      "121855    Yes\n",
      "Name: Client_Permanent_Match_Tag, Length: 121856, dtype: object - 2\n",
      "0         Yes\n",
      "1         Yes\n",
      "2         Yes\n",
      "3         Yes\n",
      "4         Yes\n",
      "         ... \n",
      "121851     No\n",
      "121852    Yes\n",
      "121853     No\n",
      "121854    Yes\n",
      "121855    Yes\n",
      "Name: Client_Contact_Work_Tag, Length: 121856, dtype: object - 2\n"
     ]
    }
   ],
   "source": [
    "# Checking number of categories \n",
    "count = 0\n",
    "for col in starting_df:\n",
    "    if col in temp_list_for_categorical_feat:\n",
    "        count = len(full_data_frame[col].value_counts())\n",
    "        print(full_data_frame[col], '-' , count)\n",
    "\n",
    "    count = 0\n"
   ]
  },
  {
   "cell_type": "code",
   "execution_count": 32,
   "metadata": {},
   "outputs": [
    {
     "data": {
      "text/plain": [
       "Alone       97407\n",
       "Relative    15747\n",
       "Partner      4516\n",
       "Kids         1334\n",
       "Others        987\n",
       "Group         104\n",
       "##             12\n",
       "Name: Accompany_Client, dtype: int64"
      ]
     },
     "execution_count": 32,
     "metadata": {},
     "output_type": "execute_result"
    }
   ],
   "source": [
    "# Checking number of categories in Accompany_Client\n",
    "starting_df['Accompany_Client'].value_counts()"
   ]
  },
  {
   "cell_type": "code",
   "execution_count": 33,
   "metadata": {},
   "outputs": [],
   "source": [
    "# Removing unnecessary categories from the dataset\n",
    "starting_df['Accompany_Client'] = [col if col in ('Alone','Relative') else 'Other' for col in starting_df['Accompany_Client']]\n",
    "starting_df['Client_Income_Type'] = [col if col in ('Service','Commercial','Retired' , 'Unemployed' , 'Student') else 'Other' for col in starting_df['Client_Income_Type']]\n",
    "starting_df['Client_Education'] = [col if col in ('Secondary','Graduation') else 'Other' for col in starting_df['Client_Education']]\n",
    "starting_df['Client_Housing_Type'] = [col if col =='Home' else 'Other' for col in starting_df['Client_Housing_Type']]\n",
    "starting_df['Client_Marital_Status'] = [col if col =='M' else 'Other' for col in starting_df['Client_Marital_Status']]\n",
    "starting_df['Client_Occupation'] = [col if col in ('Laborers','Sales','Core','Managers','Drivers','High skill tech','Medicine') else 'Other' for col in starting_df['Client_Occupation']]"
   ]
  },
  {
   "cell_type": "code",
   "execution_count": 34,
   "metadata": {},
   "outputs": [
    {
     "data": {
      "text/plain": [
       "Alone       97407\n",
       "Relative    15747\n",
       "Other        8699\n",
       "Name: Accompany_Client, dtype: int64"
      ]
     },
     "execution_count": 34,
     "metadata": {},
     "output_type": "execute_result"
    }
   ],
   "source": [
    "# Checking number of categories after removing\n",
    "starting_df['Accompany_Client'].value_counts()"
   ]
  },
  {
   "cell_type": "code",
   "execution_count": 35,
   "metadata": {},
   "outputs": [
    {
     "data": {
      "text/plain": [
       "array([0, 1], dtype=int64)"
      ]
     },
     "execution_count": 35,
     "metadata": {},
     "output_type": "execute_result"
    }
   ],
   "source": [
    "# checking unique values\n",
    "starting_df['Application_Process_Hour'].unique()\n",
    "starting_df['Cleint_City_Rating'].unique()\n",
    "starting_df['Homephone_Tag'].unique()\n",
    "starting_df['Car_Owned'].unique()\n",
    "starting_df['Loan_Annuity'].unique()\n",
    "starting_df['Phone_Change'].unique()\n",
    "starting_df['Client_Education'].unique()\n",
    "starting_df['Client_Occupation'].unique()\n",
    "starting_df['Client_Gender'].unique()\n",
    "starting_df['Client_Income_Type'].unique()\n",
    "starting_df['Child_Count'].unique()\n",
    "starting_df['Workphone_Working'].unique()"
   ]
  },
  {
   "cell_type": "code",
   "execution_count": 36,
   "metadata": {},
   "outputs": [
    {
     "data": {
      "text/plain": [
       "900.00     2370\n",
       "1350.00    2090\n",
       "675.00      845\n",
       "1012.50     774\n",
       "3780.00     621\n",
       "           ... \n",
       "3585.60       1\n",
       "5844.60       1\n",
       "1004.85       1\n",
       "5561.10       1\n",
       "5329.35       1\n",
       "Name: Loan_Annuity, Length: 10856, dtype: int64"
      ]
     },
     "execution_count": 36,
     "metadata": {},
     "output_type": "execute_result"
    }
   ],
   "source": [
    "starting_df['Loan_Annuity'].value_counts()"
   ]
  },
  {
   "cell_type": "code",
   "execution_count": 37,
   "metadata": {},
   "outputs": [
    {
     "name": "stdout",
     "output_type": "stream",
     "text": [
      "['Commercial' 'Service' 'Retired' 'Other' 'Student' 'Unemployed']\n"
     ]
    }
   ],
   "source": [
    "print(starting_df['Client_Income_Type'].unique())"
   ]
  },
  {
   "cell_type": "code",
   "execution_count": 38,
   "metadata": {},
   "outputs": [],
   "source": [
    "# Creating a function to encode the enhanced dataset\n",
    "def encode_data_frame(data_frame, temp_list):\n",
    "    for col in temp_list:\n",
    "        data_frame[col] = LabelEncoder().fit_transform(data_frame[col])\n",
    "    return data_frame"
   ]
  },
  {
   "cell_type": "code",
   "execution_count": 39,
   "metadata": {},
   "outputs": [
    {
     "data": {
      "text/html": [
       "<div>\n",
       "<style scoped>\n",
       "    .dataframe tbody tr th:only-of-type {\n",
       "        vertical-align: middle;\n",
       "    }\n",
       "\n",
       "    .dataframe tbody tr th {\n",
       "        vertical-align: top;\n",
       "    }\n",
       "\n",
       "    .dataframe thead th {\n",
       "        text-align: right;\n",
       "    }\n",
       "</style>\n",
       "<table border=\"1\" class=\"dataframe\">\n",
       "  <thead>\n",
       "    <tr style=\"text-align: right;\">\n",
       "      <th></th>\n",
       "      <th>Client_Income</th>\n",
       "      <th>Car_Owned</th>\n",
       "      <th>Bike_Owned</th>\n",
       "      <th>Active_Loan</th>\n",
       "      <th>House_Own</th>\n",
       "      <th>Child_Count</th>\n",
       "      <th>Credit_Amount</th>\n",
       "      <th>Loan_Annuity</th>\n",
       "      <th>Accompany_Client</th>\n",
       "      <th>Client_Income_Type</th>\n",
       "      <th>...</th>\n",
       "      <th>Client_Occupation</th>\n",
       "      <th>Client_Family_Members</th>\n",
       "      <th>Cleint_City_Rating</th>\n",
       "      <th>Application_Process_Day</th>\n",
       "      <th>Application_Process_Hour</th>\n",
       "      <th>Client_Permanent_Match_Tag</th>\n",
       "      <th>Client_Contact_Work_Tag</th>\n",
       "      <th>Social_Circle_Default</th>\n",
       "      <th>Phone_Change</th>\n",
       "      <th>Default</th>\n",
       "    </tr>\n",
       "  </thead>\n",
       "  <tbody>\n",
       "    <tr>\n",
       "      <th>0</th>\n",
       "      <td>6750.0</td>\n",
       "      <td>0.0</td>\n",
       "      <td>0.0</td>\n",
       "      <td>1.0</td>\n",
       "      <td>0.0</td>\n",
       "      <td>0.0</td>\n",
       "      <td>61190.55</td>\n",
       "      <td>3416.85</td>\n",
       "      <td>0</td>\n",
       "      <td>0</td>\n",
       "      <td>...</td>\n",
       "      <td>7</td>\n",
       "      <td>2.0</td>\n",
       "      <td>2.0</td>\n",
       "      <td>6.0</td>\n",
       "      <td>17.0</td>\n",
       "      <td>1</td>\n",
       "      <td>1</td>\n",
       "      <td>0.0186</td>\n",
       "      <td>63.0</td>\n",
       "      <td>0</td>\n",
       "    </tr>\n",
       "    <tr>\n",
       "      <th>1</th>\n",
       "      <td>20250.0</td>\n",
       "      <td>1.0</td>\n",
       "      <td>0.0</td>\n",
       "      <td>1.0</td>\n",
       "      <td>NaN</td>\n",
       "      <td>0.0</td>\n",
       "      <td>15282.00</td>\n",
       "      <td>1826.55</td>\n",
       "      <td>0</td>\n",
       "      <td>3</td>\n",
       "      <td>...</td>\n",
       "      <td>6</td>\n",
       "      <td>2.0</td>\n",
       "      <td>2.0</td>\n",
       "      <td>3.0</td>\n",
       "      <td>10.0</td>\n",
       "      <td>1</td>\n",
       "      <td>1</td>\n",
       "      <td>NaN</td>\n",
       "      <td>NaN</td>\n",
       "      <td>0</td>\n",
       "    </tr>\n",
       "    <tr>\n",
       "      <th>2</th>\n",
       "      <td>18000.0</td>\n",
       "      <td>0.0</td>\n",
       "      <td>0.0</td>\n",
       "      <td>1.0</td>\n",
       "      <td>0.0</td>\n",
       "      <td>1.0</td>\n",
       "      <td>59527.35</td>\n",
       "      <td>2788.20</td>\n",
       "      <td>0</td>\n",
       "      <td>3</td>\n",
       "      <td>...</td>\n",
       "      <td>6</td>\n",
       "      <td>2.0</td>\n",
       "      <td>2.0</td>\n",
       "      <td>4.0</td>\n",
       "      <td>NaN</td>\n",
       "      <td>1</td>\n",
       "      <td>1</td>\n",
       "      <td>0.0742</td>\n",
       "      <td>277.0</td>\n",
       "      <td>0</td>\n",
       "    </tr>\n",
       "    <tr>\n",
       "      <th>3</th>\n",
       "      <td>15750.0</td>\n",
       "      <td>0.0</td>\n",
       "      <td>0.0</td>\n",
       "      <td>1.0</td>\n",
       "      <td>1.0</td>\n",
       "      <td>0.0</td>\n",
       "      <td>53870.40</td>\n",
       "      <td>2295.45</td>\n",
       "      <td>0</td>\n",
       "      <td>2</td>\n",
       "      <td>...</td>\n",
       "      <td>6</td>\n",
       "      <td>2.0</td>\n",
       "      <td>3.0</td>\n",
       "      <td>2.0</td>\n",
       "      <td>15.0</td>\n",
       "      <td>1</td>\n",
       "      <td>1</td>\n",
       "      <td>NaN</td>\n",
       "      <td>1700.0</td>\n",
       "      <td>0</td>\n",
       "    </tr>\n",
       "    <tr>\n",
       "      <th>4</th>\n",
       "      <td>33750.0</td>\n",
       "      <td>1.0</td>\n",
       "      <td>0.0</td>\n",
       "      <td>1.0</td>\n",
       "      <td>0.0</td>\n",
       "      <td>2.0</td>\n",
       "      <td>133988.40</td>\n",
       "      <td>3547.35</td>\n",
       "      <td>0</td>\n",
       "      <td>0</td>\n",
       "      <td>...</td>\n",
       "      <td>3</td>\n",
       "      <td>4.0</td>\n",
       "      <td>1.0</td>\n",
       "      <td>3.0</td>\n",
       "      <td>NaN</td>\n",
       "      <td>1</td>\n",
       "      <td>1</td>\n",
       "      <td>0.2021</td>\n",
       "      <td>674.0</td>\n",
       "      <td>0</td>\n",
       "    </tr>\n",
       "  </tbody>\n",
       "</table>\n",
       "<p>5 rows × 34 columns</p>\n",
       "</div>"
      ],
      "text/plain": [
       "   Client_Income  Car_Owned  Bike_Owned  Active_Loan  House_Own  Child_Count  \\\n",
       "0         6750.0        0.0         0.0          1.0        0.0          0.0   \n",
       "1        20250.0        1.0         0.0          1.0        NaN          0.0   \n",
       "2        18000.0        0.0         0.0          1.0        0.0          1.0   \n",
       "3        15750.0        0.0         0.0          1.0        1.0          0.0   \n",
       "4        33750.0        1.0         0.0          1.0        0.0          2.0   \n",
       "\n",
       "   Credit_Amount  Loan_Annuity  Accompany_Client  Client_Income_Type  ...  \\\n",
       "0       61190.55       3416.85                 0                   0  ...   \n",
       "1       15282.00       1826.55                 0                   3  ...   \n",
       "2       59527.35       2788.20                 0                   3  ...   \n",
       "3       53870.40       2295.45                 0                   2  ...   \n",
       "4      133988.40       3547.35                 0                   0  ...   \n",
       "\n",
       "   Client_Occupation  Client_Family_Members  Cleint_City_Rating  \\\n",
       "0                  7                    2.0                 2.0   \n",
       "1                  6                    2.0                 2.0   \n",
       "2                  6                    2.0                 2.0   \n",
       "3                  6                    2.0                 3.0   \n",
       "4                  3                    4.0                 1.0   \n",
       "\n",
       "   Application_Process_Day  Application_Process_Hour  \\\n",
       "0                      6.0                      17.0   \n",
       "1                      3.0                      10.0   \n",
       "2                      4.0                       NaN   \n",
       "3                      2.0                      15.0   \n",
       "4                      3.0                       NaN   \n",
       "\n",
       "   Client_Permanent_Match_Tag  Client_Contact_Work_Tag  Social_Circle_Default  \\\n",
       "0                           1                        1                 0.0186   \n",
       "1                           1                        1                    NaN   \n",
       "2                           1                        1                 0.0742   \n",
       "3                           1                        1                    NaN   \n",
       "4                           1                        1                 0.2021   \n",
       "\n",
       "   Phone_Change  Default  \n",
       "0          63.0        0  \n",
       "1           NaN        0  \n",
       "2         277.0        0  \n",
       "3        1700.0        0  \n",
       "4         674.0        0  \n",
       "\n",
       "[5 rows x 34 columns]"
      ]
     },
     "execution_count": 39,
     "metadata": {},
     "output_type": "execute_result"
    }
   ],
   "source": [
    "# Encoding the dataset\n",
    "starting_df = encode_data_frame(starting_df, temp_list_for_categorical_feat)\n",
    "starting_df.head(5)"
   ]
  },
  {
   "cell_type": "code",
   "execution_count": 40,
   "metadata": {},
   "outputs": [
    {
     "name": "stdout",
     "output_type": "stream",
     "text": [
      "[0 3 2 1 4 5]\n"
     ]
    }
   ],
   "source": [
    "print(starting_df['Client_Income_Type'].unique())"
   ]
  },
  {
   "cell_type": "code",
   "execution_count": 41,
   "metadata": {},
   "outputs": [
    {
     "data": {
      "text/plain": [
       "Own_House_Age                 80093\n",
       "Social_Circle_Default         61928\n",
       "ID_Days                        5985\n",
       "Population_Region_Relative     4867\n",
       "Loan_Annuity                   4826\n",
       "dtype: int64"
      ]
     },
     "execution_count": 41,
     "metadata": {},
     "output_type": "execute_result"
    }
   ],
   "source": [
    "# Vitualize all null values\n",
    "starting_df.isnull().sum().sort_values(ascending=False).head()"
   ]
  },
  {
   "cell_type": "code",
   "execution_count": 42,
   "metadata": {},
   "outputs": [
    {
     "name": "stdout",
     "output_type": "stream",
     "text": [
      "Droped column' Own_House_Age ' and total number of null values: 80093\n",
      "Droped column' Social_Circle_Default ' and total number of null values: 61928\n"
     ]
    }
   ],
   "source": [
    "# Removing all the null values\n",
    "total_null =0\n",
    "for col in starting_df:\n",
    "    total_null = starting_df[col].isnull().sum()\n",
    "    if (total_null/len(starting_df.index)) > 0.3 :\n",
    "        print(\"Removed the column'\",col,\"' along with the null values total:\", starting_df[col].isnull().sum())\n",
    "        del starting_df[col]\n",
    "    total_null = 0   "
   ]
  },
  {
   "cell_type": "code",
   "execution_count": 45,
   "metadata": {},
   "outputs": [],
   "source": [
    "# Applying the a mean value to the missing values in each row\n",
    "imputer = SimpleImputer(strategy='mean')\n",
    "imputer.fit(starting_df)\n",
    "starting_df = pd.DataFrame(data=imputer.transform(starting_df), columns=starting_df.columns)"
   ]
  },
  {
   "cell_type": "code",
   "execution_count": 49,
   "metadata": {},
   "outputs": [
    {
     "data": {
      "text/plain": [
       "0    1\n",
       "1    1\n",
       "2    1\n",
       "3    1\n",
       "4    1\n",
       "5    1\n",
       "6    0\n",
       "7    1\n",
       "8    1\n",
       "9    1\n",
       "Name: Phone_Change, dtype: int64"
      ]
     },
     "execution_count": 49,
     "metadata": {},
     "output_type": "execute_result"
    }
   ],
   "source": [
    "# Converting the days to years\n",
    "days = ['Age_Days','Employed_Days','Registration_Days','ID_Days','Phone_Change']\n",
    "for day in days:\n",
    "    starting_df[day] = [math.ceil(val/365) if val != '' else null for val in starting_df[day]]\n",
    "\n",
    "starting_df[day].head(10)"
   ]
  },
  {
   "cell_type": "code",
   "execution_count": 50,
   "metadata": {},
   "outputs": [],
   "source": [
    "# Removing unwanted values\n",
    "value = 0\n",
    "\n",
    "for val in starting_df['Population_Region_Relative']:\n",
    "    if val > 1:\n",
    "        starting_df.drop(starting_df[starting_df['Population_Region_Relative'] > 1].index, inplace = True)\n",
    "        value+=1     "
   ]
  },
  {
   "cell_type": "code",
   "execution_count": 57,
   "metadata": {},
   "outputs": [
    {
     "name": "stdout",
     "output_type": "stream",
     "text": [
      "Client_Income\n",
      "Car_Owned\n",
      "Bike_Owned\n",
      "Active_Loan\n",
      "House_Own\n",
      "Child_Count\n",
      "Credit_Amount\n",
      "Loan_Annuity\n",
      "Accompany_Client\n",
      "Client_Income_Type\n",
      "Client_Education\n",
      "Client_Marital_Status\n",
      "Client_Gender\n",
      "Loan_Contract_Type\n",
      "Client_Housing_Type\n",
      "Population_Region_Relative\n",
      "Age_Days\n",
      "Employed_Days\n",
      "Registration_Days\n",
      "ID_Days\n",
      "Mobile_Tag\n",
      "Homephone_Tag\n",
      "Workphone_Working\n",
      "Client_Occupation\n",
      "Client_Family_Members\n",
      "Cleint_City_Rating\n",
      "Application_Process_Day\n",
      "Application_Process_Hour\n",
      "Client_Permanent_Match_Tag\n",
      "Client_Contact_Work_Tag\n",
      "Phone_Change\n",
      "Default\n"
     ]
    }
   ],
   "source": [
    "for i in starting_df:\n",
    "    print(i)"
   ]
  },
  {
   "cell_type": "code",
   "execution_count": 59,
   "metadata": {},
   "outputs": [
    {
     "name": "stdout",
     "output_type": "stream",
     "text": [
      "0\n"
     ]
    }
   ],
   "source": [
    "value = 0\n",
    "for val in starting_df['Employed_Days']:\n",
    "    if val > 100:\n",
    "        value+=1 \n",
    "\n",
    "print(value)"
   ]
  },
  {
   "cell_type": "code",
   "execution_count": 60,
   "metadata": {},
   "outputs": [],
   "source": [
    "starting_df = starting_df.drop(columns=['Employed_Days'])\n"
   ]
  }
 ],
 "metadata": {
  "interpreter": {
   "hash": "b33cbd221e9be3538ef108613c2d5cc2f9d7369f303fc2904bee642d4ab700d9"
  },
  "kernelspec": {
   "display_name": "Python 3.8.8 ('base')",
   "language": "python",
   "name": "python3"
  },
  "language_info": {
   "codemirror_mode": {
    "name": "ipython",
    "version": 3
   },
   "file_extension": ".py",
   "mimetype": "text/x-python",
   "name": "python",
   "nbconvert_exporter": "python",
   "pygments_lexer": "ipython3",
   "version": "3.8.8"
  }
 },
 "nbformat": 4,
 "nbformat_minor": 1
}
